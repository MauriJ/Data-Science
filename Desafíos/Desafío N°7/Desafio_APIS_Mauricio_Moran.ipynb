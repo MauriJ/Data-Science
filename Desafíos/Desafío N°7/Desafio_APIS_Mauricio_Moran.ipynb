{
 "cells": [
  {
   "attachments": {},
   "cell_type": "markdown",
   "metadata": {},
   "source": [
    "## Desafío entregable #6: Descarga de datos desde APIs públicas"
   ]
  },
  {
   "attachments": {},
   "cell_type": "markdown",
   "metadata": {},
   "source": [
    "En el presente desafío se obtendrá información sobre canciones lanzadas entre los años 1980 y 2022 procedentes de la plataforma de streamming de música Spotify a traves de su Web API. Por medio del paquete Spotipy podremos comunicarnos con la API empleando Python. \n",
    "\n",
    "https://developer.spotify.com/documentation/web-api/\n",
    "\n",
    "https://spotipy.readthedocs.io/en/2.22.1/"
   ]
  },
  {
   "attachments": {},
   "cell_type": "markdown",
   "metadata": {},
   "source": [
    "### Instalamos e importamos los paquetes"
   ]
  },
  {
   "attachments": {},
   "cell_type": "markdown",
   "metadata": {},
   "source": [
    "Instalamos el paquete Spotipy y lo importamos junto con otros paquetes que serán de utilidad"
   ]
  },
  {
   "cell_type": "code",
   "execution_count": 1,
   "metadata": {},
   "outputs": [],
   "source": [
    "# pip install spotipy --upgrade"
   ]
  },
  {
   "cell_type": "code",
   "execution_count": 2,
   "metadata": {},
   "outputs": [],
   "source": [
    "import json\n",
    "import pandas as pd\n",
    "import spotipy\n",
    "from spotipy.oauth2 import SpotifyClientCredentials"
   ]
  },
  {
   "attachments": {},
   "cell_type": "markdown",
   "metadata": {},
   "source": [
    "Para poder acceder al Spotify Web API se requiere de registar una cuenta en Spotify for Developers. Esta última es gratuita, no requiere de pagar el servicio Spotify Premium. Este paso es importante porque permite obtener las API Keys: ClientID y Client Secret, con las cuales acceder a la API. Estas claves son secretas y no serán compartidas.\n",
    "\n",
    "https://developer.spotify.com/"
   ]
  },
  {
   "cell_type": "code",
   "execution_count": 3,
   "metadata": {},
   "outputs": [],
   "source": [
    "cid = 'xxxxxxxxx'\n",
    "secret = 'xxxxxxxxx'"
   ]
  },
  {
   "attachments": {},
   "cell_type": "markdown",
   "metadata": {},
   "source": [
    "Con las API Keys procedemos a acceder Spotify mediante la libreria Spotipy"
   ]
  },
  {
   "cell_type": "code",
   "execution_count": 4,
   "metadata": {},
   "outputs": [],
   "source": [
    "client_credentials_manager = SpotifyClientCredentials(client_id = cid, client_secret = secret)\n",
    "sp = spotipy.Spotify(client_credentials_manager = client_credentials_manager)"
   ]
  },
  {
   "attachments": {},
   "cell_type": "markdown",
   "metadata": {},
   "source": [
    "Se usarán dos comandos para extraer información de la API: search y audio_features, los cuales ameritan una breve descripción.\n",
    "\n",
    "- search permite buscar canciones que cumplan un determinado criterio, el cual puede ser el nombre del artista, el género o el año de lanzamiento de la canción. Este comando está limitado a entregar información de un máximo de 50 canciones por vez (limit) de una lista de hasta 1000 canciones (offset). Se pueden obtener más datos haciendo uso de un loop for.\n",
    "\n",
    "https://developer.spotify.com/documentation/web-api/reference/#/operations/search\n",
    "\n",
    "- audio_features entrega datos de una determinada canción sobre una serie de parámetros numéricos que dan información sobre el volumen, la energía que transmite, el carácter instrumental, la presencia de palabra hablada o cantanda, entre otras. Este comando requiere del Spotify ID de la canción de interés.\n",
    "\n",
    "https://developer.spotify.com/documentation/web-api/reference/#/operations/get-audio-features"
   ]
  },
  {
   "attachments": {},
   "cell_type": "markdown",
   "metadata": {},
   "source": [
    "### Adquisición de datos"
   ]
  },
  {
   "attachments": {},
   "cell_type": "markdown",
   "metadata": {},
   "source": [
    "En primer lugar se obtiene por medio del comando search una lista de canciones entre los años 1980 y 2022. Se obtiene el nombre del artista, el nombre de la cancion y la popularidad de la misma. Además cada cancion posee un ID y un URI."
   ]
  },
  {
   "cell_type": "code",
   "execution_count": 28,
   "metadata": {},
   "outputs": [],
   "source": [
    "year, artist_name, track_name, popularity, track_id, track_uri = [], [], [], [], [], []\n",
    "\n",
    "for y in range(1980, 2023):\n",
    "    for i in range(0, 200, 50):\n",
    "        track_results = sp.search(q = f'year:{y}', type = 'track', limit = 50, offset = i)\n",
    "        \n",
    "        for i, t in enumerate(track_results['tracks']['items']):\n",
    "            year.append(int(y))\n",
    "            artist_name.append(t['artists'][0]['name'])\n",
    "            track_name.append(t['name'])\n",
    "            track_id.append(t['id'])\n",
    "            track_uri.append(t['uri'])\n",
    "            popularity.append(t['popularity'])"
   ]
  },
  {
   "attachments": {},
   "cell_type": "markdown",
   "metadata": {},
   "source": [
    "Con la mencionada lista se arma el dataset provisorio df_tracks. Este dataset será luego utilizado para armar el dataset definitivo."
   ]
  },
  {
   "cell_type": "code",
   "execution_count": 29,
   "metadata": {},
   "outputs": [
    {
     "name": "stdout",
     "output_type": "stream",
     "text": [
      "8600\n"
     ]
    },
    {
     "data": {
      "text/html": [
       "<div>\n",
       "<style scoped>\n",
       "    .dataframe tbody tr th:only-of-type {\n",
       "        vertical-align: middle;\n",
       "    }\n",
       "\n",
       "    .dataframe tbody tr th {\n",
       "        vertical-align: top;\n",
       "    }\n",
       "\n",
       "    .dataframe thead th {\n",
       "        text-align: right;\n",
       "    }\n",
       "</style>\n",
       "<table border=\"1\" class=\"dataframe\">\n",
       "  <thead>\n",
       "    <tr style=\"text-align: right;\">\n",
       "      <th></th>\n",
       "      <th>year</th>\n",
       "      <th>artist</th>\n",
       "      <th>track</th>\n",
       "      <th>id</th>\n",
       "      <th>popularity</th>\n",
       "    </tr>\n",
       "  </thead>\n",
       "  <tbody>\n",
       "    <tr>\n",
       "      <th>0</th>\n",
       "      <td>1980</td>\n",
       "      <td>AC/DC</td>\n",
       "      <td>You Shook Me All Night Long</td>\n",
       "      <td>2SiXAy7TuUkycRVbbWDEpo</td>\n",
       "      <td>80</td>\n",
       "    </tr>\n",
       "    <tr>\n",
       "      <th>1</th>\n",
       "      <td>1980</td>\n",
       "      <td>AC/DC</td>\n",
       "      <td>Back In Black</td>\n",
       "      <td>08mG3Y1vljYA6bvDt4Wqkj</td>\n",
       "      <td>82</td>\n",
       "    </tr>\n",
       "    <tr>\n",
       "      <th>2</th>\n",
       "      <td>1980</td>\n",
       "      <td>Daryl Hall &amp; John Oates</td>\n",
       "      <td>You Make My Dreams (Come True)</td>\n",
       "      <td>4o6BgsqLIBViaGVbx5rbRk</td>\n",
       "      <td>77</td>\n",
       "    </tr>\n",
       "    <tr>\n",
       "      <th>3</th>\n",
       "      <td>1980</td>\n",
       "      <td>Queen</td>\n",
       "      <td>Another One Bites The Dust - Remastered 2011</td>\n",
       "      <td>57JVGBtBLCfHw2muk5416J</td>\n",
       "      <td>72</td>\n",
       "    </tr>\n",
       "    <tr>\n",
       "      <th>4</th>\n",
       "      <td>1980</td>\n",
       "      <td>Bob Marley &amp; The Wailers</td>\n",
       "      <td>Could You Be Loved</td>\n",
       "      <td>5O4erNlJ74PIF6kGol1ZrC</td>\n",
       "      <td>79</td>\n",
       "    </tr>\n",
       "  </tbody>\n",
       "</table>\n",
       "</div>"
      ],
      "text/plain": [
       "   year                    artist  \\\n",
       "0  1980                     AC/DC   \n",
       "1  1980                     AC/DC   \n",
       "2  1980   Daryl Hall & John Oates   \n",
       "3  1980                     Queen   \n",
       "4  1980  Bob Marley & The Wailers   \n",
       "\n",
       "                                          track                      id  \\\n",
       "0                   You Shook Me All Night Long  2SiXAy7TuUkycRVbbWDEpo   \n",
       "1                                 Back In Black  08mG3Y1vljYA6bvDt4Wqkj   \n",
       "2                You Make My Dreams (Come True)  4o6BgsqLIBViaGVbx5rbRk   \n",
       "3  Another One Bites The Dust - Remastered 2011  57JVGBtBLCfHw2muk5416J   \n",
       "4                            Could You Be Loved  5O4erNlJ74PIF6kGol1ZrC   \n",
       "\n",
       "   popularity  \n",
       "0          80  \n",
       "1          82  \n",
       "2          77  \n",
       "3          72  \n",
       "4          79  "
      ]
     },
     "execution_count": 29,
     "metadata": {},
     "output_type": "execute_result"
    }
   ],
   "source": [
    "df_tracks = pd.DataFrame({'year':year, 'artist':artist_name, 'track':track_name, 'id':track_id, 'popularity':popularity})\n",
    "\n",
    "print(df_tracks.shape[0])\n",
    "df_tracks.head()"
   ]
  },
  {
   "attachments": {},
   "cell_type": "markdown",
   "metadata": {},
   "source": [
    "Empleando los URI de cada canción se procedió a obtener los parámetros numéricos de cada canción por medio del comando audio_features. Dichos parámetros son almacenados en un diccionario."
   ]
  },
  {
   "cell_type": "code",
   "execution_count": 31,
   "metadata": {},
   "outputs": [
    {
     "name": "stdout",
     "output_type": "stream",
     "text": [
      "Progreso = 100.0 %\r"
     ]
    }
   ],
   "source": [
    "audio_features = {}\n",
    "    \n",
    "for idx, i in enumerate(track_uri):\n",
    "    audio_features[f'{idx}'] = sp.audio_features(i)[0]\n",
    "    print('Progreso = {} %'.format(round(idx*100/(df_tracks.shape[0]), 1)), end = '\\r')"
   ]
  },
  {
   "attachments": {},
   "cell_type": "markdown",
   "metadata": {},
   "source": [
    "El comando audio_feature solicita (request) información a la API sobre una determinada canción, haciendo cada vez una conexión con Spotify. Esto lo repite para cada una de las 8600 canciones, estoy hace el proceso un tanto lento y susceptible a fluctuacciones en el ancho de banda y suele incurrir en errores por pérdida de conexion. \n",
    "\n",
    "Con el diccionario audio_features se arma un segundo dataset provisorio, df_audio_features."
   ]
  },
  {
   "cell_type": "code",
   "execution_count": 32,
   "metadata": {},
   "outputs": [
    {
     "name": "stdout",
     "output_type": "stream",
     "text": [
      "(8600, 14)\n"
     ]
    },
    {
     "data": {
      "text/html": [
       "<div>\n",
       "<style scoped>\n",
       "    .dataframe tbody tr th:only-of-type {\n",
       "        vertical-align: middle;\n",
       "    }\n",
       "\n",
       "    .dataframe tbody tr th {\n",
       "        vertical-align: top;\n",
       "    }\n",
       "\n",
       "    .dataframe thead th {\n",
       "        text-align: right;\n",
       "    }\n",
       "</style>\n",
       "<table border=\"1\" class=\"dataframe\">\n",
       "  <thead>\n",
       "    <tr style=\"text-align: right;\">\n",
       "      <th></th>\n",
       "      <th>danceability</th>\n",
       "      <th>energy</th>\n",
       "      <th>key</th>\n",
       "      <th>loudness</th>\n",
       "      <th>mode</th>\n",
       "      <th>speechiness</th>\n",
       "      <th>acousticness</th>\n",
       "      <th>instrumentalness</th>\n",
       "      <th>liveness</th>\n",
       "      <th>valence</th>\n",
       "      <th>tempo</th>\n",
       "      <th>id</th>\n",
       "      <th>duration_ms</th>\n",
       "      <th>time_signature</th>\n",
       "    </tr>\n",
       "  </thead>\n",
       "  <tbody>\n",
       "    <tr>\n",
       "      <th>0</th>\n",
       "      <td>0.532</td>\n",
       "      <td>0.767</td>\n",
       "      <td>7</td>\n",
       "      <td>-5.509</td>\n",
       "      <td>1</td>\n",
       "      <td>0.0574</td>\n",
       "      <td>0.00287</td>\n",
       "      <td>0.000513</td>\n",
       "      <td>0.39</td>\n",
       "      <td>0.755</td>\n",
       "      <td>127.361</td>\n",
       "      <td>2SiXAy7TuUkycRVbbWDEpo</td>\n",
       "      <td>210173</td>\n",
       "      <td>4</td>\n",
       "    </tr>\n",
       "    <tr>\n",
       "      <th>1</th>\n",
       "      <td>0.31</td>\n",
       "      <td>0.7</td>\n",
       "      <td>9</td>\n",
       "      <td>-5.678</td>\n",
       "      <td>1</td>\n",
       "      <td>0.047</td>\n",
       "      <td>0.011</td>\n",
       "      <td>0.00965</td>\n",
       "      <td>0.0828</td>\n",
       "      <td>0.763</td>\n",
       "      <td>188.386</td>\n",
       "      <td>08mG3Y1vljYA6bvDt4Wqkj</td>\n",
       "      <td>255493</td>\n",
       "      <td>4</td>\n",
       "    </tr>\n",
       "    <tr>\n",
       "      <th>2</th>\n",
       "      <td>0.751</td>\n",
       "      <td>0.501</td>\n",
       "      <td>5</td>\n",
       "      <td>-12.151</td>\n",
       "      <td>1</td>\n",
       "      <td>0.0551</td>\n",
       "      <td>0.234</td>\n",
       "      <td>0.112</td>\n",
       "      <td>0.0467</td>\n",
       "      <td>0.902</td>\n",
       "      <td>167.057</td>\n",
       "      <td>4o6BgsqLIBViaGVbx5rbRk</td>\n",
       "      <td>190627</td>\n",
       "      <td>4</td>\n",
       "    </tr>\n",
       "    <tr>\n",
       "      <th>3</th>\n",
       "      <td>0.933</td>\n",
       "      <td>0.528</td>\n",
       "      <td>5</td>\n",
       "      <td>-6.472</td>\n",
       "      <td>0</td>\n",
       "      <td>0.162</td>\n",
       "      <td>0.112</td>\n",
       "      <td>0.329</td>\n",
       "      <td>0.163</td>\n",
       "      <td>0.756</td>\n",
       "      <td>109.975</td>\n",
       "      <td>57JVGBtBLCfHw2muk5416J</td>\n",
       "      <td>214653</td>\n",
       "      <td>4</td>\n",
       "    </tr>\n",
       "    <tr>\n",
       "      <th>4</th>\n",
       "      <td>0.916</td>\n",
       "      <td>0.72</td>\n",
       "      <td>0</td>\n",
       "      <td>-8.548</td>\n",
       "      <td>1</td>\n",
       "      <td>0.1</td>\n",
       "      <td>0.36</td>\n",
       "      <td>0.00016</td>\n",
       "      <td>0.0958</td>\n",
       "      <td>0.76</td>\n",
       "      <td>103.312</td>\n",
       "      <td>5O4erNlJ74PIF6kGol1ZrC</td>\n",
       "      <td>237000</td>\n",
       "      <td>4</td>\n",
       "    </tr>\n",
       "  </tbody>\n",
       "</table>\n",
       "</div>"
      ],
      "text/plain": [
       "  danceability energy key loudness mode speechiness acousticness  \\\n",
       "0        0.532  0.767   7   -5.509    1      0.0574      0.00287   \n",
       "1         0.31    0.7   9   -5.678    1       0.047        0.011   \n",
       "2        0.751  0.501   5  -12.151    1      0.0551        0.234   \n",
       "3        0.933  0.528   5   -6.472    0       0.162        0.112   \n",
       "4        0.916   0.72   0   -8.548    1         0.1         0.36   \n",
       "\n",
       "  instrumentalness liveness valence    tempo                      id  \\\n",
       "0         0.000513     0.39   0.755  127.361  2SiXAy7TuUkycRVbbWDEpo   \n",
       "1          0.00965   0.0828   0.763  188.386  08mG3Y1vljYA6bvDt4Wqkj   \n",
       "2            0.112   0.0467   0.902  167.057  4o6BgsqLIBViaGVbx5rbRk   \n",
       "3            0.329    0.163   0.756  109.975  57JVGBtBLCfHw2muk5416J   \n",
       "4          0.00016   0.0958    0.76  103.312  5O4erNlJ74PIF6kGol1ZrC   \n",
       "\n",
       "  duration_ms time_signature  \n",
       "0      210173              4  \n",
       "1      255493              4  \n",
       "2      190627              4  \n",
       "3      214653              4  \n",
       "4      237000              4  "
      ]
     },
     "execution_count": 32,
     "metadata": {},
     "output_type": "execute_result"
    }
   ],
   "source": [
    "df_audio_features = pd.DataFrame.from_dict(audio_features).T \n",
    "\n",
    "drop = ['type', 'uri', 'track_href', 'analysis_url']\n",
    "df_audio_features.drop(drop, axis = 1, inplace = True)\n",
    "\n",
    "print(df_audio_features.shape)\n",
    "df_audio_features.head()"
   ]
  },
  {
   "attachments": {},
   "cell_type": "markdown",
   "metadata": {},
   "source": [
    "Finalmente, unimos los dos datasets provisorios por medio del comando merge de Pandas, el cual opera de manera similar al comando JOIN del lenguaje SQL. El dataset resultante es el definitivo y es el que contiene todos los datos de interés que fueron solicitados a la Web API de Spotify."
   ]
  },
  {
   "cell_type": "code",
   "execution_count": 33,
   "metadata": {},
   "outputs": [
    {
     "name": "stdout",
     "output_type": "stream",
     "text": [
      "Dimensiones del dataset: (8600, 14)\n"
     ]
    },
    {
     "data": {
      "text/html": [
       "<div>\n",
       "<style scoped>\n",
       "    .dataframe tbody tr th:only-of-type {\n",
       "        vertical-align: middle;\n",
       "    }\n",
       "\n",
       "    .dataframe tbody tr th {\n",
       "        vertical-align: top;\n",
       "    }\n",
       "\n",
       "    .dataframe thead th {\n",
       "        text-align: right;\n",
       "    }\n",
       "</style>\n",
       "<table border=\"1\" class=\"dataframe\">\n",
       "  <thead>\n",
       "    <tr style=\"text-align: right;\">\n",
       "      <th></th>\n",
       "      <th>year</th>\n",
       "      <th>artist</th>\n",
       "      <th>track</th>\n",
       "      <th>id</th>\n",
       "      <th>popularity</th>\n",
       "      <th>danceability</th>\n",
       "      <th>energy</th>\n",
       "      <th>key</th>\n",
       "      <th>loudness</th>\n",
       "      <th>mode</th>\n",
       "      <th>speechiness</th>\n",
       "      <th>acousticness</th>\n",
       "      <th>instrumentalness</th>\n",
       "      <th>liveness</th>\n",
       "      <th>valence</th>\n",
       "      <th>tempo</th>\n",
       "      <th>duration_ms</th>\n",
       "      <th>time_signature</th>\n",
       "    </tr>\n",
       "  </thead>\n",
       "  <tbody>\n",
       "    <tr>\n",
       "      <th>0</th>\n",
       "      <td>1980</td>\n",
       "      <td>AC/DC</td>\n",
       "      <td>You Shook Me All Night Long</td>\n",
       "      <td>2SiXAy7TuUkycRVbbWDEpo</td>\n",
       "      <td>80</td>\n",
       "      <td>0.532</td>\n",
       "      <td>0.767</td>\n",
       "      <td>7</td>\n",
       "      <td>-5.509</td>\n",
       "      <td>1</td>\n",
       "      <td>0.0574</td>\n",
       "      <td>0.00287</td>\n",
       "      <td>0.000513</td>\n",
       "      <td>0.39</td>\n",
       "      <td>0.755</td>\n",
       "      <td>127.361</td>\n",
       "      <td>210173</td>\n",
       "      <td>4</td>\n",
       "    </tr>\n",
       "    <tr>\n",
       "      <th>1</th>\n",
       "      <td>1980</td>\n",
       "      <td>AC/DC</td>\n",
       "      <td>Back In Black</td>\n",
       "      <td>08mG3Y1vljYA6bvDt4Wqkj</td>\n",
       "      <td>82</td>\n",
       "      <td>0.31</td>\n",
       "      <td>0.7</td>\n",
       "      <td>9</td>\n",
       "      <td>-5.678</td>\n",
       "      <td>1</td>\n",
       "      <td>0.047</td>\n",
       "      <td>0.011</td>\n",
       "      <td>0.00965</td>\n",
       "      <td>0.0828</td>\n",
       "      <td>0.763</td>\n",
       "      <td>188.386</td>\n",
       "      <td>255493</td>\n",
       "      <td>4</td>\n",
       "    </tr>\n",
       "    <tr>\n",
       "      <th>2</th>\n",
       "      <td>1980</td>\n",
       "      <td>Daryl Hall &amp; John Oates</td>\n",
       "      <td>You Make My Dreams (Come True)</td>\n",
       "      <td>4o6BgsqLIBViaGVbx5rbRk</td>\n",
       "      <td>77</td>\n",
       "      <td>0.751</td>\n",
       "      <td>0.501</td>\n",
       "      <td>5</td>\n",
       "      <td>-12.151</td>\n",
       "      <td>1</td>\n",
       "      <td>0.0551</td>\n",
       "      <td>0.234</td>\n",
       "      <td>0.112</td>\n",
       "      <td>0.0467</td>\n",
       "      <td>0.902</td>\n",
       "      <td>167.057</td>\n",
       "      <td>190627</td>\n",
       "      <td>4</td>\n",
       "    </tr>\n",
       "    <tr>\n",
       "      <th>3</th>\n",
       "      <td>1980</td>\n",
       "      <td>Queen</td>\n",
       "      <td>Another One Bites The Dust - Remastered 2011</td>\n",
       "      <td>57JVGBtBLCfHw2muk5416J</td>\n",
       "      <td>72</td>\n",
       "      <td>0.933</td>\n",
       "      <td>0.528</td>\n",
       "      <td>5</td>\n",
       "      <td>-6.472</td>\n",
       "      <td>0</td>\n",
       "      <td>0.162</td>\n",
       "      <td>0.112</td>\n",
       "      <td>0.329</td>\n",
       "      <td>0.163</td>\n",
       "      <td>0.756</td>\n",
       "      <td>109.975</td>\n",
       "      <td>214653</td>\n",
       "      <td>4</td>\n",
       "    </tr>\n",
       "    <tr>\n",
       "      <th>4</th>\n",
       "      <td>1980</td>\n",
       "      <td>Bob Marley &amp; The Wailers</td>\n",
       "      <td>Could You Be Loved</td>\n",
       "      <td>5O4erNlJ74PIF6kGol1ZrC</td>\n",
       "      <td>79</td>\n",
       "      <td>0.916</td>\n",
       "      <td>0.72</td>\n",
       "      <td>0</td>\n",
       "      <td>-8.548</td>\n",
       "      <td>1</td>\n",
       "      <td>0.1</td>\n",
       "      <td>0.36</td>\n",
       "      <td>0.00016</td>\n",
       "      <td>0.0958</td>\n",
       "      <td>0.76</td>\n",
       "      <td>103.312</td>\n",
       "      <td>237000</td>\n",
       "      <td>4</td>\n",
       "    </tr>\n",
       "  </tbody>\n",
       "</table>\n",
       "</div>"
      ],
      "text/plain": [
       "   year                    artist  \\\n",
       "0  1980                     AC/DC   \n",
       "1  1980                     AC/DC   \n",
       "2  1980   Daryl Hall & John Oates   \n",
       "3  1980                     Queen   \n",
       "4  1980  Bob Marley & The Wailers   \n",
       "\n",
       "                                          track                      id  \\\n",
       "0                   You Shook Me All Night Long  2SiXAy7TuUkycRVbbWDEpo   \n",
       "1                                 Back In Black  08mG3Y1vljYA6bvDt4Wqkj   \n",
       "2                You Make My Dreams (Come True)  4o6BgsqLIBViaGVbx5rbRk   \n",
       "3  Another One Bites The Dust - Remastered 2011  57JVGBtBLCfHw2muk5416J   \n",
       "4                            Could You Be Loved  5O4erNlJ74PIF6kGol1ZrC   \n",
       "\n",
       "   popularity danceability energy key loudness mode speechiness acousticness  \\\n",
       "0          80        0.532  0.767   7   -5.509    1      0.0574      0.00287   \n",
       "1          82         0.31    0.7   9   -5.678    1       0.047        0.011   \n",
       "2          77        0.751  0.501   5  -12.151    1      0.0551        0.234   \n",
       "3          72        0.933  0.528   5   -6.472    0       0.162        0.112   \n",
       "4          79        0.916   0.72   0   -8.548    1         0.1         0.36   \n",
       "\n",
       "  instrumentalness liveness valence    tempo duration_ms time_signature  \n",
       "0         0.000513     0.39   0.755  127.361      210173              4  \n",
       "1          0.00965   0.0828   0.763  188.386      255493              4  \n",
       "2            0.112   0.0467   0.902  167.057      190627              4  \n",
       "3            0.329    0.163   0.756  109.975      214653              4  \n",
       "4          0.00016   0.0958    0.76  103.312      237000              4  "
      ]
     },
     "execution_count": 33,
     "metadata": {},
     "output_type": "execute_result"
    }
   ],
   "source": [
    "df = pd.merge(df_tracks, df_audio_features, on = 'id', how = 'inner') \n",
    "print('Dimensiones del dataset:', df_audio_features.shape) \n",
    "df.head()"
   ]
  },
  {
   "attachments": {},
   "cell_type": "markdown",
   "metadata": {},
   "source": [
    "El dataset es guardado como un archivo .csv"
   ]
  },
  {
   "cell_type": "code",
   "execution_count": 34,
   "metadata": {},
   "outputs": [],
   "source": [
    "df.to_csv('Spotify_API.csv')"
   ]
  }
 ],
 "metadata": {
  "kernelspec": {
   "display_name": "ml-scikit",
   "language": "python",
   "name": "python3"
  },
  "language_info": {
   "codemirror_mode": {
    "name": "ipython",
    "version": 3
   },
   "file_extension": ".py",
   "mimetype": "text/x-python",
   "name": "python",
   "nbconvert_exporter": "python",
   "pygments_lexer": "ipython3",
   "version": "3.10.6"
  },
  "orig_nbformat": 4
 },
 "nbformat": 4,
 "nbformat_minor": 2
}
