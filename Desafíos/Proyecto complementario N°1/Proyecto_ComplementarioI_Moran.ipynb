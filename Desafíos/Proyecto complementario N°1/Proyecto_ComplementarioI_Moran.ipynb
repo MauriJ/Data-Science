{
 "cells": [
  {
   "attachments": {},
   "cell_type": "markdown",
   "metadata": {},
   "source": [
    "## Proyecto Complementario #1: Evaluando modelos ML"
   ]
  },
  {
   "cell_type": "code",
   "execution_count": 2,
   "metadata": {},
   "outputs": [],
   "source": [
    "import pandas as pd\n",
    "import numpy as np\n",
    "import matplotlib.pyplot as plt\n",
    "import seaborn as sns\n",
    "from scipy import stats\n",
    "\n",
    "from sklearn import preprocessing\n",
    "from sklearn.feature_selection import SequentialFeatureSelector\n",
    "from sklearn.model_selection import train_test_split\n",
    "from sklearn.gaussian_process.kernels import RBF\n",
    "from sklearn.metrics import accuracy_score\n",
    "from sklearn.metrics import recall_score\n",
    "from sklearn.metrics import f1_score"
   ]
  },
  {
   "cell_type": "code",
   "execution_count": 3,
   "metadata": {},
   "outputs": [],
   "source": [
    "df = pd.read_csv('Spotify_Track_Dataset.csv')"
   ]
  },
  {
   "attachments": {},
   "cell_type": "markdown",
   "metadata": {},
   "source": [
    "## Data Cleaning"
   ]
  },
  {
   "cell_type": "code",
   "execution_count": 4,
   "metadata": {},
   "outputs": [],
   "source": [
    "df = df.dropna()\n",
    "df_filtro = df[(np.abs(stats.zscore(df['duration_ms'])) < 3)]\n",
    "df1 = df_filtro.copy()"
   ]
  },
  {
   "attachments": {},
   "cell_type": "markdown",
   "metadata": {},
   "source": [
    "## Data Wrangling"
   ]
  },
  {
   "cell_type": "code",
   "execution_count": 5,
   "metadata": {},
   "outputs": [],
   "source": [
    "df1.drop('Unnamed: 0', axis = 1, inplace = True)\n",
    "df1['duration_min'] = (df1['duration_ms']/(60 * 1000)).round(2)\n",
    "df1.drop('duration_ms', axis = 1, inplace = True)\n",
    "df1['loudness_db'] = - df1['loudness']\n",
    "df1.drop('loudness', axis = 1, inplace = True)\n",
    "df1[['artist_1', 'artist_2', 'artist_3']] = df1['artists'].str.split(';', 2, expand=True)\n",
    "df1.drop('artists', axis = 1, inplace = True)"
   ]
  },
  {
   "attachments": {},
   "cell_type": "markdown",
   "metadata": {},
   "source": [
    "## Preprocesado"
   ]
  },
  {
   "cell_type": "code",
   "execution_count": 6,
   "metadata": {},
   "outputs": [],
   "source": [
    "ord_enc = preprocessing.OrdinalEncoder()\n",
    "df1['track_genre'] = ord_enc.fit_transform(df1[['track_genre']])\n",
    "df1['track_genre']\n",
    "\n",
    "X = df1.drop(['track_genre', 'track_id', 'album_name', 'track_name', 'explicit', 'mode', 'key', 'time_signature', 'artist_1', 'artist_2', 'artist_3'], axis = 1) \n",
    "\n",
    "y = df1['track_genre']\n",
    "\n",
    "X2 = X.iloc[::15,:] \n",
    "y2 = y.iloc[::15]"
   ]
  },
  {
   "attachments": {},
   "cell_type": "markdown",
   "metadata": {},
   "source": [
    "## Selección de modelos de ML"
   ]
  },
  {
   "attachments": {},
   "cell_type": "markdown",
   "metadata": {},
   "source": [
    "A continuación se probarán distintos modelos de clasificación y se evaluarán las métricas obtenidas. Los algoritmos empleados son KNeighbors, Gaussian Naive Bayes, Decision tree y Randon Forest. Se probaron otros algoritmos tales como SVC, Quadratic Discriminant, Ada Boost, etcétera, pero no funcionaron adecuadamente o no eran extremadamente lentos.\n",
    "\n",
    "Para cada algoritmo se empleó el Forward Feature Selector para determinar las 3, 5, 7, 9 y 10 variables que el algoritmo considera más relevantes (Sprint 3, Sprint 5, Sprint 7, Sprint 9 y Sprint 10, respectivamente). Y luego para cada Sprint se aplicó el algoritmo y se calculan las métricas."
   ]
  },
  {
   "attachments": {},
   "cell_type": "markdown",
   "metadata": {},
   "source": [
    "### KNeighbors Classifier"
   ]
  },
  {
   "cell_type": "code",
   "execution_count": 7,
   "metadata": {},
   "outputs": [],
   "source": [
    "from sklearn.neighbors import KNeighborsClassifier"
   ]
  },
  {
   "cell_type": "code",
   "execution_count": 8,
   "metadata": {},
   "outputs": [
    {
     "name": "stdout",
     "output_type": "stream",
     "text": [
      "Las 3 variables seleccionadas son: ['popularity', 'danceability', 'acousticness']\n",
      "Las 5 variables seleccionadas son: ['popularity', 'danceability', 'speechiness', 'acousticness', 'instrumentalness']\n",
      "Las 7 variables seleccionadas son: ['popularity', 'danceability', 'energy', 'speechiness', 'acousticness', 'instrumentalness', 'valence']\n",
      "Las 9 variables seleccionadas son: ['popularity', 'danceability', 'energy', 'speechiness', 'acousticness', 'instrumentalness', 'liveness', 'valence', 'duration_min']\n",
      "Las 10 variables seleccionadas son: ['popularity', 'danceability', 'energy', 'speechiness', 'acousticness', 'instrumentalness', 'liveness', 'valence', 'duration_min', 'loudness_db']\n"
     ]
    }
   ],
   "source": [
    "knn = KNeighborsClassifier(n_neighbors = 5, n_jobs = -1)\n",
    "\n",
    "forw = {}\n",
    "\n",
    "for i in [3, 5, 7, 9, 10]:\n",
    "    forw[f'sfs_{i}'] = SequentialFeatureSelector(knn, n_features_to_select = i)\n",
    "    forw[f'sfs_{i}'].fit(X2, y2)\n",
    "    # print(f'Las {i} variables seleccionadas son:', list(X2.columns[forw[f'sfs_{i}'].get_support()]))\n",
    "    forw[f'sfs_{i}_var'] = X2.columns[forw[f'sfs_{i}'].get_support()]"
   ]
  },
  {
   "cell_type": "code",
   "execution_count": 44,
   "metadata": {},
   "outputs": [
    {
     "data": {
      "text/html": [
       "<div>\n",
       "<style scoped>\n",
       "    .dataframe tbody tr th:only-of-type {\n",
       "        vertical-align: middle;\n",
       "    }\n",
       "\n",
       "    .dataframe tbody tr th {\n",
       "        vertical-align: top;\n",
       "    }\n",
       "\n",
       "    .dataframe thead th {\n",
       "        text-align: right;\n",
       "    }\n",
       "</style>\n",
       "<table border=\"1\" class=\"dataframe\">\n",
       "  <thead>\n",
       "    <tr style=\"text-align: right;\">\n",
       "      <th></th>\n",
       "      <th>Modelo</th>\n",
       "      <th>Accuracy</th>\n",
       "      <th>Recall</th>\n",
       "      <th>F1</th>\n",
       "    </tr>\n",
       "  </thead>\n",
       "  <tbody>\n",
       "    <tr>\n",
       "      <th>0</th>\n",
       "      <td>Sprint 3</td>\n",
       "      <td>0.13</td>\n",
       "      <td>0.13</td>\n",
       "      <td>0.13</td>\n",
       "    </tr>\n",
       "    <tr>\n",
       "      <th>1</th>\n",
       "      <td>Sprint 5</td>\n",
       "      <td>0.16</td>\n",
       "      <td>0.16</td>\n",
       "      <td>0.16</td>\n",
       "    </tr>\n",
       "    <tr>\n",
       "      <th>2</th>\n",
       "      <td>Sprint 7</td>\n",
       "      <td>0.19</td>\n",
       "      <td>0.19</td>\n",
       "      <td>0.19</td>\n",
       "    </tr>\n",
       "    <tr>\n",
       "      <th>3</th>\n",
       "      <td>Sprint 9</td>\n",
       "      <td>0.20</td>\n",
       "      <td>0.20</td>\n",
       "      <td>0.20</td>\n",
       "    </tr>\n",
       "    <tr>\n",
       "      <th>4</th>\n",
       "      <td>Sprint 10</td>\n",
       "      <td>0.18</td>\n",
       "      <td>0.18</td>\n",
       "      <td>0.18</td>\n",
       "    </tr>\n",
       "  </tbody>\n",
       "</table>\n",
       "</div>"
      ],
      "text/plain": [
       "      Modelo  Accuracy  Recall    F1\n",
       "0   Sprint 3      0.13    0.13  0.13\n",
       "1   Sprint 5      0.16    0.16  0.16\n",
       "2   Sprint 7      0.19    0.19  0.19\n",
       "3   Sprint 9      0.20    0.20  0.20\n",
       "4  Sprint 10      0.18    0.18  0.18"
      ]
     },
     "execution_count": 44,
     "metadata": {},
     "output_type": "execute_result"
    }
   ],
   "source": [
    "knn = KNeighborsClassifier(n_neighbors = 5, n_jobs = -1)\n",
    "\n",
    "accuracy_forw, recall_forw, f1_forw = [], [], []\n",
    "\n",
    "for i in [3, 5, 7, 9, 10]:\n",
    "    X_i = X[list(X2.columns[forw[f'sfs_{i}'].get_support()])]\n",
    "    \n",
    "    X_train, X_test, y_train, y_test = train_test_split(X_i, y, random_state = 42)\n",
    "    knn.fit(X_train, y_train)\n",
    "    \n",
    "    y_pred = knn.predict(X_test)\n",
    "    \n",
    "    accuracy_forw.append(accuracy_score(y_test, y_pred))\n",
    "    recall_forw.append(recall_score(y_test, y_pred, average = 'macro'))\n",
    "    f1_forw.append(f1_score(y_test, y_pred, average = 'macro'))\n",
    "    \n",
    "comparacion_forw = pd.DataFrame({'Modelo': ['Sprint 3', 'Sprint 5', ' Sprint 7', 'Sprint 9', 'Sprint 10'], 'Accuracy': accuracy_forw, 'Recall': recall_forw, 'F1': f1_forw})\n",
    "\n",
    "comparacion_forw.round(2)"
   ]
  },
  {
   "attachments": {},
   "cell_type": "markdown",
   "metadata": {},
   "source": [
    "### Gaussian Naive Bayes"
   ]
  },
  {
   "cell_type": "code",
   "execution_count": 14,
   "metadata": {},
   "outputs": [],
   "source": [
    "from sklearn.naive_bayes import GaussianNB"
   ]
  },
  {
   "cell_type": "code",
   "execution_count": 15,
   "metadata": {},
   "outputs": [
    {
     "name": "stdout",
     "output_type": "stream",
     "text": [
      "Las 3 variables seleccionadas son: ['popularity', 'danceability', 'loudness_db']\n",
      "Las 5 variables seleccionadas son: ['popularity', 'danceability', 'valence', 'duration_min', 'loudness_db']\n",
      "Las 7 variables seleccionadas son: ['popularity', 'danceability', 'speechiness', 'acousticness', 'valence', 'duration_min', 'loudness_db']\n",
      "Las 9 variables seleccionadas son: ['popularity', 'danceability', 'energy', 'speechiness', 'acousticness', 'valence', 'tempo', 'duration_min', 'loudness_db']\n",
      "Las 10 variables seleccionadas son: ['popularity', 'danceability', 'energy', 'speechiness', 'acousticness', 'liveness', 'valence', 'tempo', 'duration_min', 'loudness_db']\n"
     ]
    }
   ],
   "source": [
    "nb = GaussianNB()\n",
    "\n",
    "forw_nb = {}\n",
    "\n",
    "for i in [3, 5, 7, 9, 10]:\n",
    "    forw_nb[f'sfs_{i}'] = SequentialFeatureSelector(nb, n_features_to_select = i)\n",
    "    forw_nb[f'sfs_{i}'].fit(X2, y2)\n",
    "    # print(f'Las {i} variables seleccionadas son:', list(X2.columns[forw_nb[f'sfs_{i}'].get_support()]))\n",
    "    forw_nb[f'sfs_{i}_var'] = X2.columns[forw_nb[f'sfs_{i}'].get_support()]"
   ]
  },
  {
   "cell_type": "code",
   "execution_count": 45,
   "metadata": {},
   "outputs": [
    {
     "data": {
      "text/html": [
       "<div>\n",
       "<style scoped>\n",
       "    .dataframe tbody tr th:only-of-type {\n",
       "        vertical-align: middle;\n",
       "    }\n",
       "\n",
       "    .dataframe tbody tr th {\n",
       "        vertical-align: top;\n",
       "    }\n",
       "\n",
       "    .dataframe thead th {\n",
       "        text-align: right;\n",
       "    }\n",
       "</style>\n",
       "<table border=\"1\" class=\"dataframe\">\n",
       "  <thead>\n",
       "    <tr style=\"text-align: right;\">\n",
       "      <th></th>\n",
       "      <th>Modelo</th>\n",
       "      <th>Accuracy</th>\n",
       "      <th>Recall</th>\n",
       "      <th>F1</th>\n",
       "    </tr>\n",
       "  </thead>\n",
       "  <tbody>\n",
       "    <tr>\n",
       "      <th>0</th>\n",
       "      <td>Sprint 3</td>\n",
       "      <td>0.11</td>\n",
       "      <td>0.11</td>\n",
       "      <td>0.07</td>\n",
       "    </tr>\n",
       "    <tr>\n",
       "      <th>1</th>\n",
       "      <td>Sprint 5</td>\n",
       "      <td>0.15</td>\n",
       "      <td>0.15</td>\n",
       "      <td>0.11</td>\n",
       "    </tr>\n",
       "    <tr>\n",
       "      <th>2</th>\n",
       "      <td>Sprint 7</td>\n",
       "      <td>0.17</td>\n",
       "      <td>0.17</td>\n",
       "      <td>0.13</td>\n",
       "    </tr>\n",
       "    <tr>\n",
       "      <th>3</th>\n",
       "      <td>Sprint 9</td>\n",
       "      <td>0.18</td>\n",
       "      <td>0.19</td>\n",
       "      <td>0.14</td>\n",
       "    </tr>\n",
       "    <tr>\n",
       "      <th>4</th>\n",
       "      <td>Sprint 10</td>\n",
       "      <td>0.18</td>\n",
       "      <td>0.18</td>\n",
       "      <td>0.14</td>\n",
       "    </tr>\n",
       "  </tbody>\n",
       "</table>\n",
       "</div>"
      ],
      "text/plain": [
       "      Modelo  Accuracy  Recall    F1\n",
       "0   Sprint 3      0.11    0.11  0.07\n",
       "1   Sprint 5      0.15    0.15  0.11\n",
       "2   Sprint 7      0.17    0.17  0.13\n",
       "3   Sprint 9      0.18    0.19  0.14\n",
       "4  Sprint 10      0.18    0.18  0.14"
      ]
     },
     "execution_count": 45,
     "metadata": {},
     "output_type": "execute_result"
    }
   ],
   "source": [
    "nb = GaussianNB()\n",
    "\n",
    "accuracy_forw_nb, recall_forw_nb, f1_forw_nb = [], [], []\n",
    "\n",
    "for i in [3, 5, 7, 9, 10]:\n",
    "    X_i = X[list(X2.columns[forw_nb[f'sfs_{i}'].get_support()])]\n",
    "    \n",
    "    X_train, X_test, y_train, y_test = train_test_split(X_i, y, random_state = 42)\n",
    "    nb.fit(X_train, y_train)\n",
    "    \n",
    "    y_pred = nb.predict(X_test)\n",
    "    \n",
    "    accuracy_forw_nb.append(accuracy_score(y_test, y_pred))\n",
    "    recall_forw_nb.append(recall_score(y_test, y_pred, average = 'macro'))\n",
    "    f1_forw_nb.append(f1_score(y_test, y_pred, average = 'macro'))\n",
    "    \n",
    "comparacion_forw_nb = pd.DataFrame({'Modelo': ['Sprint 3', 'Sprint 5', ' Sprint 7', 'Sprint 9', 'Sprint 10'], 'Accuracy': accuracy_forw_nb, 'Recall': recall_forw_nb, 'F1': f1_forw_nb})\n",
    "\n",
    "comparacion_forw_nb.round(2)"
   ]
  },
  {
   "attachments": {},
   "cell_type": "markdown",
   "metadata": {},
   "source": [
    "### Decision Tree Classifier"
   ]
  },
  {
   "cell_type": "code",
   "execution_count": 18,
   "metadata": {},
   "outputs": [],
   "source": [
    "from sklearn.tree import DecisionTreeClassifier"
   ]
  },
  {
   "cell_type": "code",
   "execution_count": 19,
   "metadata": {},
   "outputs": [
    {
     "name": "stdout",
     "output_type": "stream",
     "text": [
      "Las 3 variables seleccionadas son: ['popularity', 'danceability', 'acousticness']\n",
      "Las 5 variables seleccionadas son: ['popularity', 'danceability', 'acousticness', 'duration_min', 'loudness_db']\n",
      "Las 7 variables seleccionadas son: ['popularity', 'danceability', 'acousticness', 'instrumentalness', 'tempo', 'duration_min', 'loudness_db']\n",
      "Las 9 variables seleccionadas son: ['popularity', 'danceability', 'energy', 'speechiness', 'acousticness', 'instrumentalness', 'tempo', 'duration_min', 'loudness_db']\n",
      "Las 10 variables seleccionadas son: ['popularity', 'danceability', 'energy', 'speechiness', 'acousticness', 'instrumentalness', 'valence', 'tempo', 'duration_min', 'loudness_db']\n"
     ]
    }
   ],
   "source": [
    "dtc = DecisionTreeClassifier(min_samples_split = 10)\n",
    "\n",
    "forw_dtc = {}\n",
    "\n",
    "for i in [3, 5, 7, 9, 10]:\n",
    "    forw_dtc[f'sfs_{i}'] = SequentialFeatureSelector(dtc, n_features_to_select = i)\n",
    "    forw_dtc[f'sfs_{i}'].fit(X2, y2)\n",
    "    # print(f'Las {i} variables seleccionadas son:', list(X2.columns[forw_dtc[f'sfs_{i}'].get_support()]))\n",
    "    forw_dtc[f'sfs_{i}_var'] = X2.columns[forw_dtc[f'sfs_{i}'].get_support()]"
   ]
  },
  {
   "cell_type": "code",
   "execution_count": 46,
   "metadata": {},
   "outputs": [
    {
     "data": {
      "text/html": [
       "<div>\n",
       "<style scoped>\n",
       "    .dataframe tbody tr th:only-of-type {\n",
       "        vertical-align: middle;\n",
       "    }\n",
       "\n",
       "    .dataframe tbody tr th {\n",
       "        vertical-align: top;\n",
       "    }\n",
       "\n",
       "    .dataframe thead th {\n",
       "        text-align: right;\n",
       "    }\n",
       "</style>\n",
       "<table border=\"1\" class=\"dataframe\">\n",
       "  <thead>\n",
       "    <tr style=\"text-align: right;\">\n",
       "      <th></th>\n",
       "      <th>Modelo</th>\n",
       "      <th>Accuracy</th>\n",
       "      <th>Recall</th>\n",
       "      <th>F1</th>\n",
       "    </tr>\n",
       "  </thead>\n",
       "  <tbody>\n",
       "    <tr>\n",
       "      <th>0</th>\n",
       "      <td>Sprint 3</td>\n",
       "      <td>0.13</td>\n",
       "      <td>0.14</td>\n",
       "      <td>0.13</td>\n",
       "    </tr>\n",
       "    <tr>\n",
       "      <th>1</th>\n",
       "      <td>Sprint 5</td>\n",
       "      <td>0.18</td>\n",
       "      <td>0.18</td>\n",
       "      <td>0.18</td>\n",
       "    </tr>\n",
       "    <tr>\n",
       "      <th>2</th>\n",
       "      <td>Sprint 7</td>\n",
       "      <td>0.20</td>\n",
       "      <td>0.20</td>\n",
       "      <td>0.20</td>\n",
       "    </tr>\n",
       "    <tr>\n",
       "      <th>3</th>\n",
       "      <td>Sprint 9</td>\n",
       "      <td>0.22</td>\n",
       "      <td>0.22</td>\n",
       "      <td>0.22</td>\n",
       "    </tr>\n",
       "    <tr>\n",
       "      <th>4</th>\n",
       "      <td>Sprint 10</td>\n",
       "      <td>0.22</td>\n",
       "      <td>0.22</td>\n",
       "      <td>0.22</td>\n",
       "    </tr>\n",
       "  </tbody>\n",
       "</table>\n",
       "</div>"
      ],
      "text/plain": [
       "      Modelo  Accuracy  Recall    F1\n",
       "0   Sprint 3      0.13    0.14  0.13\n",
       "1   Sprint 5      0.18    0.18  0.18\n",
       "2   Sprint 7      0.20    0.20  0.20\n",
       "3   Sprint 9      0.22    0.22  0.22\n",
       "4  Sprint 10      0.22    0.22  0.22"
      ]
     },
     "execution_count": 46,
     "metadata": {},
     "output_type": "execute_result"
    }
   ],
   "source": [
    "dtc = DecisionTreeClassifier(min_samples_split = 10)\n",
    "\n",
    "accuracy_forw_dtc, recall_forw_dtc, f1_forw_dtc = [], [], []\n",
    "\n",
    "for i in [3, 5, 7, 9, 10]:\n",
    "    X_i = X[list(X2.columns[forw_dtc[f'sfs_{i}'].get_support()])]\n",
    "    \n",
    "    X_train, X_test, y_train, y_test = train_test_split(X_i, y, random_state = 42)\n",
    "    dtc.fit(X_train, y_train)\n",
    "    \n",
    "    y_pred = dtc.predict(X_test)\n",
    "    \n",
    "    accuracy_forw_dtc.append(accuracy_score(y_test, y_pred))\n",
    "    recall_forw_dtc.append(recall_score(y_test, y_pred, average = 'macro'))\n",
    "    f1_forw_dtc.append(f1_score(y_test, y_pred, average = 'macro'))\n",
    "    \n",
    "comparacion_forw_dtc = pd.DataFrame({'Modelo': ['Sprint 3', 'Sprint 5', ' Sprint 7', 'Sprint 9', 'Sprint 10'], 'Accuracy': accuracy_forw_dtc, 'Recall': recall_forw_dtc, 'F1': f1_forw_dtc})\n",
    "\n",
    "comparacion_forw_dtc.round(2)"
   ]
  },
  {
   "attachments": {},
   "cell_type": "markdown",
   "metadata": {},
   "source": [
    "### Random Forrest "
   ]
  },
  {
   "cell_type": "code",
   "execution_count": 23,
   "metadata": {},
   "outputs": [],
   "source": [
    "from sklearn.ensemble import RandomForestClassifier"
   ]
  },
  {
   "cell_type": "code",
   "execution_count": 30,
   "metadata": {},
   "outputs": [
    {
     "name": "stdout",
     "output_type": "stream",
     "text": [
      "Las 3 variables seleccionadas son: ['popularity', 'acousticness', 'tempo']\n",
      "Las 5 variables seleccionadas son: ['popularity', 'acousticness', 'instrumentalness', 'tempo', 'duration_min']\n",
      "Las 7 variables seleccionadas son: ['popularity', 'danceability', 'energy', 'acousticness', 'instrumentalness', 'tempo', 'duration_min']\n",
      "Las 9 variables seleccionadas son: ['popularity', 'danceability', 'energy', 'acousticness', 'instrumentalness', 'valence', 'tempo', 'duration_min', 'loudness_db']\n",
      "Las 10 variables seleccionadas son: ['popularity', 'danceability', 'energy', 'speechiness', 'acousticness', 'instrumentalness', 'valence', 'tempo', 'duration_min', 'loudness_db']\n"
     ]
    }
   ],
   "source": [
    "rfc = RandomForestClassifier(max_depth = 5, n_estimators = 10, max_features = 1)\n",
    "\n",
    "forw_rfc = {}\n",
    "\n",
    "for i in [3, 5, 7, 9, 10]:\n",
    "    forw_rfc[f'sfs_{i}'] = SequentialFeatureSelector(rfc, n_features_to_select = i)\n",
    "    forw_rfc[f'sfs_{i}'].fit(X2, y2)\n",
    "    # print(f'Las {i} variables seleccionadas son:', list(X2.columns[forw_rfc[f'sfs_{i}'].get_support()]))\n",
    "    forw_rfc[f'sfs_{i}_var'] = X2.columns[forw_rfc[f'sfs_{i}'].get_support()]"
   ]
  },
  {
   "cell_type": "code",
   "execution_count": 47,
   "metadata": {},
   "outputs": [
    {
     "data": {
      "text/html": [
       "<div>\n",
       "<style scoped>\n",
       "    .dataframe tbody tr th:only-of-type {\n",
       "        vertical-align: middle;\n",
       "    }\n",
       "\n",
       "    .dataframe tbody tr th {\n",
       "        vertical-align: top;\n",
       "    }\n",
       "\n",
       "    .dataframe thead th {\n",
       "        text-align: right;\n",
       "    }\n",
       "</style>\n",
       "<table border=\"1\" class=\"dataframe\">\n",
       "  <thead>\n",
       "    <tr style=\"text-align: right;\">\n",
       "      <th></th>\n",
       "      <th>Modelo</th>\n",
       "      <th>Accuracy</th>\n",
       "      <th>Recall</th>\n",
       "      <th>F1</th>\n",
       "    </tr>\n",
       "  </thead>\n",
       "  <tbody>\n",
       "    <tr>\n",
       "      <th>0</th>\n",
       "      <td>Sprint 3</td>\n",
       "      <td>0.13</td>\n",
       "      <td>0.13</td>\n",
       "      <td>0.08</td>\n",
       "    </tr>\n",
       "    <tr>\n",
       "      <th>1</th>\n",
       "      <td>Sprint 5</td>\n",
       "      <td>0.14</td>\n",
       "      <td>0.14</td>\n",
       "      <td>0.09</td>\n",
       "    </tr>\n",
       "    <tr>\n",
       "      <th>2</th>\n",
       "      <td>Sprint 7</td>\n",
       "      <td>0.16</td>\n",
       "      <td>0.16</td>\n",
       "      <td>0.11</td>\n",
       "    </tr>\n",
       "    <tr>\n",
       "      <th>3</th>\n",
       "      <td>Sprint 9</td>\n",
       "      <td>0.14</td>\n",
       "      <td>0.15</td>\n",
       "      <td>0.09</td>\n",
       "    </tr>\n",
       "    <tr>\n",
       "      <th>4</th>\n",
       "      <td>Sprint 10</td>\n",
       "      <td>0.15</td>\n",
       "      <td>0.15</td>\n",
       "      <td>0.10</td>\n",
       "    </tr>\n",
       "  </tbody>\n",
       "</table>\n",
       "</div>"
      ],
      "text/plain": [
       "      Modelo  Accuracy  Recall    F1\n",
       "0   Sprint 3      0.13    0.13  0.08\n",
       "1   Sprint 5      0.14    0.14  0.09\n",
       "2   Sprint 7      0.16    0.16  0.11\n",
       "3   Sprint 9      0.14    0.15  0.09\n",
       "4  Sprint 10      0.15    0.15  0.10"
      ]
     },
     "execution_count": 47,
     "metadata": {},
     "output_type": "execute_result"
    }
   ],
   "source": [
    "rfc = RandomForestClassifier(max_depth = 5, n_estimators = 10, max_features = 1)\n",
    "\n",
    "accuracy_forw_rfc, recall_forw_rfc, f1_forw_rfc = [], [], []\n",
    "\n",
    "for i in [3, 5, 7, 9, 10]:\n",
    "    X_i = X[list(X2.columns[forw_rfc[f'sfs_{i}'].get_support()])]\n",
    "    \n",
    "    X_train, X_test, y_train, y_test = train_test_split(X_i, y, random_state = 42)\n",
    "    rfc.fit(X_train, y_train)\n",
    "    \n",
    "    y_pred = rfc.predict(X_test)\n",
    "    \n",
    "    accuracy_forw_rfc.append(accuracy_score(y_test, y_pred))\n",
    "    recall_forw_rfc.append(recall_score(y_test, y_pred, average = 'macro'))\n",
    "    f1_forw_rfc.append(f1_score(y_test, y_pred, average = 'macro'))\n",
    "    \n",
    "comparacion_forw_rfc = pd.DataFrame({'Modelo': ['Sprint 3', 'Sprint 5', ' Sprint 7', 'Sprint 9', 'Sprint 10'], 'Accuracy': accuracy_forw_rfc, 'Recall': recall_forw_rfc, 'F1': f1_forw_rfc})\n",
    "\n",
    "comparacion_forw_rfc.round(2)"
   ]
  },
  {
   "attachments": {},
   "cell_type": "markdown",
   "metadata": {},
   "source": [
    "### Ada Boost Classifier"
   ]
  },
  {
   "attachments": {},
   "cell_type": "markdown",
   "metadata": {},
   "source": [
    "Este algoritmo resulta extremandamente lento a la hora de realizar el Forward Feature Selector, es por ello que se tomaron los features determinados por Random Forest."
   ]
  },
  {
   "cell_type": "code",
   "execution_count": 35,
   "metadata": {},
   "outputs": [],
   "source": [
    "from sklearn.ensemble import AdaBoostClassifier"
   ]
  },
  {
   "cell_type": "code",
   "execution_count": 40,
   "metadata": {},
   "outputs": [],
   "source": [
    "abc = AdaBoostClassifier()\n",
    "\n",
    "X_9 = X[list(X2.columns[forw['sfs_9'].get_support()])]\n",
    "X_train, X_test, y_train, y_test = train_test_split(X_9, y, random_state = 42)\n",
    "\n",
    "abc.fit(X_train, y_train)\n",
    "y_pred = abc.predict(X_test)\n",
    "\n",
    "accuracy_abc = accuracy_score(y_test, y_pred)\n",
    "recall_abc = recall_score(y_test, y_pred, average = 'macro')\n",
    "f1_abc = f1_score(y_test, y_pred, average = 'macro')"
   ]
  },
  {
   "cell_type": "code",
   "execution_count": 41,
   "metadata": {},
   "outputs": [],
   "source": [
    "abc = AdaBoostClassifier()\n",
    "\n",
    "accuracy_forw_abc, recall_forw_abc, f1_forw_abc = [], [], []\n",
    "\n",
    "for i in [3, 5, 7, 9, 10]:\n",
    "    X_i = X[list(X2.columns[forw_rfc[f'sfs_{i}'].get_support()])]\n",
    "    \n",
    "    X_train, X_test, y_train, y_test = train_test_split(X_i, y, random_state = 42)\n",
    "    abc.fit(X_train, y_train)\n",
    "    \n",
    "    y_pred = abc.predict(X_test)\n",
    "    \n",
    "    accuracy_forw_abc.append(accuracy_score(y_test, y_pred))\n",
    "    recall_forw_abc.append(recall_score(y_test, y_pred, average = 'macro'))\n",
    "    f1_forw_abc.append(f1_score(y_test, y_pred, average = 'macro'))\n",
    "    \n",
    "comparacion_forw_abc = pd.DataFrame({'Modelo': ['Sprint 3', 'Sprint 5', ' Sprint 7', 'Sprint 9', 'Sprint 10'], 'Accuracy': accuracy_forw_abc, 'Recall': recall_forw_abc, 'F1': f1_forw_abc})\n",
    "\n",
    "comparacion_forw_abc.round(2)"
   ]
  }
 ],
 "metadata": {
  "kernelspec": {
   "display_name": "ml-scikit",
   "language": "python",
   "name": "python3"
  },
  "language_info": {
   "codemirror_mode": {
    "name": "ipython",
    "version": 3
   },
   "file_extension": ".py",
   "mimetype": "text/x-python",
   "name": "python",
   "nbconvert_exporter": "python",
   "pygments_lexer": "ipython3",
   "version": "3.10.6"
  },
  "orig_nbformat": 4,
  "vscode": {
   "interpreter": {
    "hash": "0142ef71ab5460c29a2357c56870d5c7cfcd83d07ae4af5dea5fef48f22325cb"
   }
  }
 },
 "nbformat": 4,
 "nbformat_minor": 2
}
