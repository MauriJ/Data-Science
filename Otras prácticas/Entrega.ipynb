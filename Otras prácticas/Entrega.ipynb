{
 "cells": [
  {
   "cell_type": "code",
   "execution_count": 1,
   "metadata": {},
   "outputs": [],
   "source": [
    "import numpy as np"
   ]
  },
  {
   "cell_type": "code",
   "execution_count": 25,
   "metadata": {},
   "outputs": [
    {
     "name": "stdout",
     "output_type": "stream",
     "text": [
      "Jueves 221 -11\n",
      "Domingo 255 -1\n"
     ]
    }
   ],
   "source": [
    "valores = [200, 225, 232, 221, 243, 256, 255]\n",
    "dias = ['Lunes','Martes','Miercoles','Jueves','Viernes','Sabado','Domingo']\n",
    "dif = np.diff(valores, prepend=200)\n",
    "\n",
    "for x, y, z in zip(dias, valores, dif):\n",
    "    if z < 0:\n",
    "        print(x, y, z)"
   ]
  },
  {
   "cell_type": "markdown",
   "metadata": {},
   "source": [
    "Lista: Registro de temperaturas mínimas (o máximas) por día.\n",
    "Tupla: Se podria usar como ejemplo para calcular la mediana de un conjunto de valores. \n",
    "Diccionario: Calificaciones de alumnos por materia. \n",
    "Set: Para listar las compras del super, y asegurarnos que ningun item este repetido."
   ]
  }
 ],
 "metadata": {
  "kernelspec": {
   "display_name": "Python 3.10.6 ('ml-scikit')",
   "language": "python",
   "name": "python3"
  },
  "language_info": {
   "codemirror_mode": {
    "name": "ipython",
    "version": 3
   },
   "file_extension": ".py",
   "mimetype": "text/x-python",
   "name": "python",
   "nbconvert_exporter": "python",
   "pygments_lexer": "ipython3",
   "version": "3.10.6 | packaged by conda-forge | (main, Aug 22 2022, 20:30:19) [MSC v.1929 64 bit (AMD64)]"
  },
  "orig_nbformat": 4,
  "vscode": {
   "interpreter": {
    "hash": "0142ef71ab5460c29a2357c56870d5c7cfcd83d07ae4af5dea5fef48f22325cb"
   }
  }
 },
 "nbformat": 4,
 "nbformat_minor": 2
}
