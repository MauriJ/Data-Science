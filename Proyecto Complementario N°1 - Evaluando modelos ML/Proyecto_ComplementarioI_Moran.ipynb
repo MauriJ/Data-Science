{
 "cells": [
  {
   "attachments": {},
   "cell_type": "markdown",
   "metadata": {},
   "source": [
    "## Proyecto Complementario #1: Evaluando modelos ML"
   ]
  },
  {
   "cell_type": "code",
   "execution_count": 1,
   "metadata": {},
   "outputs": [],
   "source": [
    "import pandas as pd\n",
    "import numpy as np\n",
    "import matplotlib.pyplot as plt\n",
    "import seaborn as sns\n",
    "from scipy import stats\n",
    "\n",
    "from sklearn import preprocessing\n",
    "from sklearn.feature_selection import SequentialFeatureSelector\n",
    "from sklearn.model_selection import train_test_split\n",
    "from sklearn.gaussian_process.kernels import RBF\n",
    "from sklearn.metrics import accuracy_score\n",
    "from sklearn.metrics import recall_score\n",
    "from sklearn.metrics import f1_score"
   ]
  },
  {
   "cell_type": "code",
   "execution_count": 2,
   "metadata": {},
   "outputs": [],
   "source": [
    "df = pd.read_csv('Spotify_Track_Dataset.csv')"
   ]
  },
  {
   "attachments": {},
   "cell_type": "markdown",
   "metadata": {},
   "source": [
    "## Data Cleaning"
   ]
  },
  {
   "cell_type": "code",
   "execution_count": 3,
   "metadata": {},
   "outputs": [],
   "source": [
    "df = df.dropna()\n",
    "df_filtro = df[(np.abs(stats.zscore(df['duration_ms'])) < 3)]\n",
    "df1 = df_filtro.copy()"
   ]
  },
  {
   "attachments": {},
   "cell_type": "markdown",
   "metadata": {},
   "source": [
    "## Data Wrangling"
   ]
  },
  {
   "cell_type": "code",
   "execution_count": 4,
   "metadata": {},
   "outputs": [],
   "source": [
    "df1.drop('Unnamed: 0', axis = 1, inplace = True)\n",
    "df1['duration_min'] = (df1['duration_ms']/(60 * 1000)).round(2)\n",
    "df1.drop('duration_ms', axis = 1, inplace = True)\n",
    "df1['loudness_db'] = - df1['loudness']\n",
    "df1.drop('loudness', axis = 1, inplace = True)\n",
    "df1[['artist_1', 'artist_2', 'artist_3']] = df1['artists'].str.split(';', 2, expand=True)\n",
    "df1.drop('artists', axis = 1, inplace = True)"
   ]
  },
  {
   "attachments": {},
   "cell_type": "markdown",
   "metadata": {},
   "source": [
    "## Preprocesado"
   ]
  },
  {
   "cell_type": "code",
   "execution_count": 5,
   "metadata": {},
   "outputs": [],
   "source": [
    "ord_enc = preprocessing.OrdinalEncoder()\n",
    "df1['track_genre'] = ord_enc.fit_transform(df1[['track_genre']])\n",
    "df1['track_genre']\n",
    "\n",
    "X = df1.drop(['track_genre', 'track_id', 'album_name', 'track_name', 'explicit', 'mode', 'key', 'time_signature', 'artist_1', 'artist_2', 'artist_3'], axis = 1) \n",
    "\n",
    "y = df1['track_genre']\n",
    "\n",
    "X2 = X.iloc[::15,:] \n",
    "y2 = y.iloc[::15]"
   ]
  },
  {
   "attachments": {},
   "cell_type": "markdown",
   "metadata": {},
   "source": [
    "## Selección de modelos de ML"
   ]
  },
  {
   "attachments": {},
   "cell_type": "markdown",
   "metadata": {},
   "source": [
    "A continuación se probarán distintos modelos de clasificación y se evaluarán las métricas obtenidas. Los algoritmos empleados son KNeighbors, Gaussian Naive Bayes, Decision tree y Randon Forest. Se probaron otros algoritmos tales como SVC, Quadratic Discriminant, Ada Boost, etcétera, pero no funcionaron adecuadamente o eran extremadamente lentos.\n",
    "\n",
    "Para cada algoritmo se empleó el Forward Feature Selector para determinar las 3, 5, 7, 9 y 10 variables que el algoritmo considera más relevantes (Sprint 3, Sprint 5, Sprint 7, Sprint 9 y Sprint 10, respectivamente). Y luego para cada Sprint se aplicó el algoritmo y se calcularon las métricas."
   ]
  },
  {
   "attachments": {},
   "cell_type": "markdown",
   "metadata": {},
   "source": [
    "### KNeighbors Classifier"
   ]
  },
  {
   "cell_type": "code",
   "execution_count": 6,
   "metadata": {},
   "outputs": [],
   "source": [
    "from sklearn.neighbors import KNeighborsClassifier"
   ]
  },
  {
   "cell_type": "code",
   "execution_count": 7,
   "metadata": {},
   "outputs": [],
   "source": [
    "knn = KNeighborsClassifier(n_neighbors = 5, n_jobs = -1)\n",
    "\n",
    "forw = {}\n",
    "\n",
    "for i in [3, 5, 7, 9, 10]:\n",
    "    forw[f'sfs_{i}'] = SequentialFeatureSelector(knn, n_features_to_select = i)\n",
    "    forw[f'sfs_{i}'].fit(X2, y2)\n",
    "    # print(f'Las {i} variables seleccionadas son:', list(X2.columns[forw[f'sfs_{i}'].get_support()]))\n",
    "    forw[f'sfs_{i}_var'] = X2.columns[forw[f'sfs_{i}'].get_support()]"
   ]
  },
  {
   "cell_type": "code",
   "execution_count": 8,
   "metadata": {},
   "outputs": [
    {
     "data": {
      "text/html": [
       "<div>\n",
       "<style scoped>\n",
       "    .dataframe tbody tr th:only-of-type {\n",
       "        vertical-align: middle;\n",
       "    }\n",
       "\n",
       "    .dataframe tbody tr th {\n",
       "        vertical-align: top;\n",
       "    }\n",
       "\n",
       "    .dataframe thead th {\n",
       "        text-align: right;\n",
       "    }\n",
       "</style>\n",
       "<table border=\"1\" class=\"dataframe\">\n",
       "  <thead>\n",
       "    <tr style=\"text-align: right;\">\n",
       "      <th></th>\n",
       "      <th>Modelo</th>\n",
       "      <th>Accuracy</th>\n",
       "      <th>Recall</th>\n",
       "      <th>F1</th>\n",
       "    </tr>\n",
       "  </thead>\n",
       "  <tbody>\n",
       "    <tr>\n",
       "      <th>0</th>\n",
       "      <td>Sprint 3</td>\n",
       "      <td>0.13</td>\n",
       "      <td>0.13</td>\n",
       "      <td>0.13</td>\n",
       "    </tr>\n",
       "    <tr>\n",
       "      <th>1</th>\n",
       "      <td>Sprint 5</td>\n",
       "      <td>0.16</td>\n",
       "      <td>0.16</td>\n",
       "      <td>0.16</td>\n",
       "    </tr>\n",
       "    <tr>\n",
       "      <th>2</th>\n",
       "      <td>Sprint 7</td>\n",
       "      <td>0.19</td>\n",
       "      <td>0.19</td>\n",
       "      <td>0.19</td>\n",
       "    </tr>\n",
       "    <tr>\n",
       "      <th>3</th>\n",
       "      <td>Sprint 9</td>\n",
       "      <td>0.20</td>\n",
       "      <td>0.20</td>\n",
       "      <td>0.20</td>\n",
       "    </tr>\n",
       "    <tr>\n",
       "      <th>4</th>\n",
       "      <td>Sprint 10</td>\n",
       "      <td>0.18</td>\n",
       "      <td>0.18</td>\n",
       "      <td>0.18</td>\n",
       "    </tr>\n",
       "  </tbody>\n",
       "</table>\n",
       "</div>"
      ],
      "text/plain": [
       "      Modelo  Accuracy  Recall    F1\n",
       "0   Sprint 3      0.13    0.13  0.13\n",
       "1   Sprint 5      0.16    0.16  0.16\n",
       "2   Sprint 7      0.19    0.19  0.19\n",
       "3   Sprint 9      0.20    0.20  0.20\n",
       "4  Sprint 10      0.18    0.18  0.18"
      ]
     },
     "execution_count": 8,
     "metadata": {},
     "output_type": "execute_result"
    }
   ],
   "source": [
    "knn = KNeighborsClassifier(n_neighbors = 5, n_jobs = -1)\n",
    "\n",
    "accuracy_forw, recall_forw, f1_forw = [], [], []\n",
    "\n",
    "for i in [3, 5, 7, 9, 10]:\n",
    "    X_i = X[list(X2.columns[forw[f'sfs_{i}'].get_support()])]\n",
    "    \n",
    "    X_train, X_test, y_train, y_test = train_test_split(X_i, y, random_state = 42)\n",
    "    knn.fit(X_train, y_train)\n",
    "    \n",
    "    y_test_pred = knn.predict(X_test)\n",
    "    \n",
    "    accuracy_forw.append(accuracy_score(y_test, y_test_pred))\n",
    "    recall_forw.append(recall_score(y_test, y_test_pred, average = 'macro'))\n",
    "    f1_forw.append(f1_score(y_test, y_test_pred, average = 'macro'))\n",
    "    \n",
    "comparacion_forw = pd.DataFrame({'Modelo': ['Sprint 3', 'Sprint 5', ' Sprint 7', 'Sprint 9', 'Sprint 10'], 'Accuracy': accuracy_forw, 'Recall': recall_forw, 'F1': f1_forw})\n",
    "\n",
    "comparacion_forw.round(2)"
   ]
  },
  {
   "attachments": {},
   "cell_type": "markdown",
   "metadata": {},
   "source": [
    "### Gaussian Naive Bayes"
   ]
  },
  {
   "cell_type": "code",
   "execution_count": 1,
   "metadata": {},
   "outputs": [],
   "source": [
    "from sklearn.naive_bayes import GaussianNB"
   ]
  },
  {
   "cell_type": "code",
   "execution_count": 10,
   "metadata": {},
   "outputs": [],
   "source": [
    "nb = GaussianNB()\n",
    "\n",
    "forw_nb = {}\n",
    "\n",
    "for i in [3, 5, 7, 9, 10]:\n",
    "    forw_nb[f'sfs_{i}'] = SequentialFeatureSelector(nb, n_features_to_select = i)\n",
    "    forw_nb[f'sfs_{i}'].fit(X2, y2)\n",
    "    # print(f'Las {i} variables seleccionadas son:', list(X2.columns[forw_nb[f'sfs_{i}'].get_support()]))\n",
    "    forw_nb[f'sfs_{i}_var'] = X2.columns[forw_nb[f'sfs_{i}'].get_support()]"
   ]
  },
  {
   "cell_type": "code",
   "execution_count": 11,
   "metadata": {},
   "outputs": [
    {
     "data": {
      "text/html": [
       "<div>\n",
       "<style scoped>\n",
       "    .dataframe tbody tr th:only-of-type {\n",
       "        vertical-align: middle;\n",
       "    }\n",
       "\n",
       "    .dataframe tbody tr th {\n",
       "        vertical-align: top;\n",
       "    }\n",
       "\n",
       "    .dataframe thead th {\n",
       "        text-align: right;\n",
       "    }\n",
       "</style>\n",
       "<table border=\"1\" class=\"dataframe\">\n",
       "  <thead>\n",
       "    <tr style=\"text-align: right;\">\n",
       "      <th></th>\n",
       "      <th>Modelo</th>\n",
       "      <th>Accuracy</th>\n",
       "      <th>Recall</th>\n",
       "      <th>F1</th>\n",
       "    </tr>\n",
       "  </thead>\n",
       "  <tbody>\n",
       "    <tr>\n",
       "      <th>0</th>\n",
       "      <td>Sprint 3</td>\n",
       "      <td>0.11</td>\n",
       "      <td>0.11</td>\n",
       "      <td>0.07</td>\n",
       "    </tr>\n",
       "    <tr>\n",
       "      <th>1</th>\n",
       "      <td>Sprint 5</td>\n",
       "      <td>0.15</td>\n",
       "      <td>0.15</td>\n",
       "      <td>0.11</td>\n",
       "    </tr>\n",
       "    <tr>\n",
       "      <th>2</th>\n",
       "      <td>Sprint 7</td>\n",
       "      <td>0.17</td>\n",
       "      <td>0.17</td>\n",
       "      <td>0.13</td>\n",
       "    </tr>\n",
       "    <tr>\n",
       "      <th>3</th>\n",
       "      <td>Sprint 9</td>\n",
       "      <td>0.18</td>\n",
       "      <td>0.19</td>\n",
       "      <td>0.14</td>\n",
       "    </tr>\n",
       "    <tr>\n",
       "      <th>4</th>\n",
       "      <td>Sprint 10</td>\n",
       "      <td>0.18</td>\n",
       "      <td>0.18</td>\n",
       "      <td>0.14</td>\n",
       "    </tr>\n",
       "  </tbody>\n",
       "</table>\n",
       "</div>"
      ],
      "text/plain": [
       "      Modelo  Accuracy  Recall    F1\n",
       "0   Sprint 3      0.11    0.11  0.07\n",
       "1   Sprint 5      0.15    0.15  0.11\n",
       "2   Sprint 7      0.17    0.17  0.13\n",
       "3   Sprint 9      0.18    0.19  0.14\n",
       "4  Sprint 10      0.18    0.18  0.14"
      ]
     },
     "execution_count": 11,
     "metadata": {},
     "output_type": "execute_result"
    }
   ],
   "source": [
    "nb = GaussianNB()\n",
    "\n",
    "accuracy_forw_nb, recall_forw_nb, f1_forw_nb = [], [], []\n",
    "\n",
    "for i in [3, 5, 7, 9, 10]:\n",
    "    X_i = X[list(X2.columns[forw_nb[f'sfs_{i}'].get_support()])]\n",
    "    \n",
    "    X_train, X_test, y_train, y_test = train_test_split(X_i, y, random_state = 42)\n",
    "    nb.fit(X_train, y_train)\n",
    "    \n",
    "    y_test_pred = nb.predict(X_test)\n",
    "    \n",
    "    accuracy_forw_nb.append(accuracy_score(y_test, y_test_pred))\n",
    "    recall_forw_nb.append(recall_score(y_test, y_test_pred, average = 'macro'))\n",
    "    f1_forw_nb.append(f1_score(y_test, y_test_pred, average = 'macro'))\n",
    "    \n",
    "comparacion_forw_nb = pd.DataFrame({'Modelo': ['Sprint 3', 'Sprint 5', ' Sprint 7', 'Sprint 9', 'Sprint 10'], 'Accuracy': accuracy_forw_nb, 'Recall': recall_forw_nb, 'F1': f1_forw_nb})\n",
    "\n",
    "comparacion_forw_nb.round(2)"
   ]
  },
  {
   "attachments": {},
   "cell_type": "markdown",
   "metadata": {},
   "source": [
    "### Decision Tree Classifier"
   ]
  },
  {
   "cell_type": "code",
   "execution_count": 12,
   "metadata": {},
   "outputs": [],
   "source": [
    "from sklearn.tree import DecisionTreeClassifier"
   ]
  },
  {
   "cell_type": "code",
   "execution_count": 13,
   "metadata": {},
   "outputs": [],
   "source": [
    "dtc = DecisionTreeClassifier(min_samples_split = 10)\n",
    "\n",
    "forw_dtc = {}\n",
    "\n",
    "for i in [3, 5, 7, 9, 10]:\n",
    "    forw_dtc[f'sfs_{i}'] = SequentialFeatureSelector(dtc, n_features_to_select = i)\n",
    "    forw_dtc[f'sfs_{i}'].fit(X2, y2)\n",
    "    # print(f'Las {i} variables seleccionadas son:', list(X2.columns[forw_dtc[f'sfs_{i}'].get_support()]))\n",
    "    forw_dtc[f'sfs_{i}_var'] = X2.columns[forw_dtc[f'sfs_{i}'].get_support()]"
   ]
  },
  {
   "cell_type": "code",
   "execution_count": 14,
   "metadata": {},
   "outputs": [
    {
     "data": {
      "text/html": [
       "<div>\n",
       "<style scoped>\n",
       "    .dataframe tbody tr th:only-of-type {\n",
       "        vertical-align: middle;\n",
       "    }\n",
       "\n",
       "    .dataframe tbody tr th {\n",
       "        vertical-align: top;\n",
       "    }\n",
       "\n",
       "    .dataframe thead th {\n",
       "        text-align: right;\n",
       "    }\n",
       "</style>\n",
       "<table border=\"1\" class=\"dataframe\">\n",
       "  <thead>\n",
       "    <tr style=\"text-align: right;\">\n",
       "      <th></th>\n",
       "      <th>Modelo</th>\n",
       "      <th>Accuracy</th>\n",
       "      <th>Recall</th>\n",
       "      <th>F1</th>\n",
       "    </tr>\n",
       "  </thead>\n",
       "  <tbody>\n",
       "    <tr>\n",
       "      <th>0</th>\n",
       "      <td>Sprint 3</td>\n",
       "      <td>0.13</td>\n",
       "      <td>0.14</td>\n",
       "      <td>0.13</td>\n",
       "    </tr>\n",
       "    <tr>\n",
       "      <th>1</th>\n",
       "      <td>Sprint 5</td>\n",
       "      <td>0.17</td>\n",
       "      <td>0.18</td>\n",
       "      <td>0.17</td>\n",
       "    </tr>\n",
       "    <tr>\n",
       "      <th>2</th>\n",
       "      <td>Sprint 7</td>\n",
       "      <td>0.20</td>\n",
       "      <td>0.20</td>\n",
       "      <td>0.20</td>\n",
       "    </tr>\n",
       "    <tr>\n",
       "      <th>3</th>\n",
       "      <td>Sprint 9</td>\n",
       "      <td>0.22</td>\n",
       "      <td>0.22</td>\n",
       "      <td>0.22</td>\n",
       "    </tr>\n",
       "    <tr>\n",
       "      <th>4</th>\n",
       "      <td>Sprint 10</td>\n",
       "      <td>0.22</td>\n",
       "      <td>0.22</td>\n",
       "      <td>0.22</td>\n",
       "    </tr>\n",
       "  </tbody>\n",
       "</table>\n",
       "</div>"
      ],
      "text/plain": [
       "      Modelo  Accuracy  Recall    F1\n",
       "0   Sprint 3      0.13    0.14  0.13\n",
       "1   Sprint 5      0.17    0.18  0.17\n",
       "2   Sprint 7      0.20    0.20  0.20\n",
       "3   Sprint 9      0.22    0.22  0.22\n",
       "4  Sprint 10      0.22    0.22  0.22"
      ]
     },
     "execution_count": 14,
     "metadata": {},
     "output_type": "execute_result"
    }
   ],
   "source": [
    "dtc = DecisionTreeClassifier(min_samples_split = 10)\n",
    "\n",
    "accuracy_forw_dtc, recall_forw_dtc, f1_forw_dtc = [], [], []\n",
    "\n",
    "for i in [3, 5, 7, 9, 10]:\n",
    "    X_i = X[list(X2.columns[forw_dtc[f'sfs_{i}'].get_support()])]\n",
    "    \n",
    "    X_train, X_test, y_train, y_test = train_test_split(X_i, y, random_state = 42)\n",
    "    dtc.fit(X_train, y_train)\n",
    "    \n",
    "    y_test_pred = dtc.predict(X_test)\n",
    "\n",
    "    accuracy_forw_dtc.append(accuracy_score(y_test, y_test_pred))\n",
    "    recall_forw_dtc.append(recall_score(y_test, y_test_pred, average = 'macro'))\n",
    "    f1_forw_dtc.append(f1_score(y_test, y_test_pred, average = 'macro'))\n",
    "    \n",
    "comparacion_forw_dtc = pd.DataFrame({'Modelo': ['Sprint 3', 'Sprint 5', ' Sprint 7', 'Sprint 9', 'Sprint 10'], 'Accuracy': accuracy_forw_dtc, 'Recall': recall_forw_dtc, 'F1': f1_forw_dtc})\n",
    "\n",
    "comparacion_forw_dtc.round(2)"
   ]
  },
  {
   "attachments": {},
   "cell_type": "markdown",
   "metadata": {},
   "source": [
    "### Random Forrest "
   ]
  },
  {
   "cell_type": "code",
   "execution_count": 15,
   "metadata": {},
   "outputs": [],
   "source": [
    "from sklearn.ensemble import RandomForestClassifier"
   ]
  },
  {
   "cell_type": "code",
   "execution_count": 16,
   "metadata": {},
   "outputs": [],
   "source": [
    "rfc = RandomForestClassifier(max_depth = 5, n_estimators = 10, max_features = 1)\n",
    "\n",
    "forw_rfc = {}\n",
    "\n",
    "for i in [3, 5, 7, 9, 10]:\n",
    "    forw_rfc[f'sfs_{i}'] = SequentialFeatureSelector(rfc, n_features_to_select = i)\n",
    "    forw_rfc[f'sfs_{i}'].fit(X2, y2)\n",
    "    # print(f'Las {i} variables seleccionadas son:', list(X2.columns[forw_rfc[f'sfs_{i}'].get_support()]))\n",
    "    forw_rfc[f'sfs_{i}_var'] = X2.columns[forw_rfc[f'sfs_{i}'].get_support()]"
   ]
  },
  {
   "cell_type": "code",
   "execution_count": 17,
   "metadata": {},
   "outputs": [
    {
     "data": {
      "text/html": [
       "<div>\n",
       "<style scoped>\n",
       "    .dataframe tbody tr th:only-of-type {\n",
       "        vertical-align: middle;\n",
       "    }\n",
       "\n",
       "    .dataframe tbody tr th {\n",
       "        vertical-align: top;\n",
       "    }\n",
       "\n",
       "    .dataframe thead th {\n",
       "        text-align: right;\n",
       "    }\n",
       "</style>\n",
       "<table border=\"1\" class=\"dataframe\">\n",
       "  <thead>\n",
       "    <tr style=\"text-align: right;\">\n",
       "      <th></th>\n",
       "      <th>Modelo</th>\n",
       "      <th>Accuracy</th>\n",
       "      <th>Recall</th>\n",
       "      <th>F1</th>\n",
       "    </tr>\n",
       "  </thead>\n",
       "  <tbody>\n",
       "    <tr>\n",
       "      <th>0</th>\n",
       "      <td>Sprint 3</td>\n",
       "      <td>0.14</td>\n",
       "      <td>0.14</td>\n",
       "      <td>0.09</td>\n",
       "    </tr>\n",
       "    <tr>\n",
       "      <th>1</th>\n",
       "      <td>Sprint 5</td>\n",
       "      <td>0.14</td>\n",
       "      <td>0.14</td>\n",
       "      <td>0.10</td>\n",
       "    </tr>\n",
       "    <tr>\n",
       "      <th>2</th>\n",
       "      <td>Sprint 7</td>\n",
       "      <td>0.17</td>\n",
       "      <td>0.17</td>\n",
       "      <td>0.11</td>\n",
       "    </tr>\n",
       "    <tr>\n",
       "      <th>3</th>\n",
       "      <td>Sprint 9</td>\n",
       "      <td>0.15</td>\n",
       "      <td>0.15</td>\n",
       "      <td>0.10</td>\n",
       "    </tr>\n",
       "    <tr>\n",
       "      <th>4</th>\n",
       "      <td>Sprint 10</td>\n",
       "      <td>0.15</td>\n",
       "      <td>0.16</td>\n",
       "      <td>0.11</td>\n",
       "    </tr>\n",
       "  </tbody>\n",
       "</table>\n",
       "</div>"
      ],
      "text/plain": [
       "      Modelo  Accuracy  Recall    F1\n",
       "0   Sprint 3      0.14    0.14  0.09\n",
       "1   Sprint 5      0.14    0.14  0.10\n",
       "2   Sprint 7      0.17    0.17  0.11\n",
       "3   Sprint 9      0.15    0.15  0.10\n",
       "4  Sprint 10      0.15    0.16  0.11"
      ]
     },
     "execution_count": 17,
     "metadata": {},
     "output_type": "execute_result"
    }
   ],
   "source": [
    "rfc = RandomForestClassifier(max_depth = 5, n_estimators = 10, max_features = 1)\n",
    "\n",
    "accuracy_forw_rfc, recall_forw_rfc, f1_forw_rfc = [], [], []\n",
    "\n",
    "for i in [3, 5, 7, 9, 10]:\n",
    "    X_i = X[list(X2.columns[forw_rfc[f'sfs_{i}'].get_support()])]\n",
    "    \n",
    "    X_train, X_test, y_train, y_test = train_test_split(X_i, y, random_state = 42)\n",
    "    rfc.fit(X_train, y_train)\n",
    "    \n",
    "    y_test_pred = rfc.predict(X_test)\n",
    "    \n",
    "    accuracy_forw_rfc.append(accuracy_score(y_test, y_test_pred))\n",
    "    recall_forw_rfc.append(recall_score(y_test, y_test_pred, average = 'macro'))\n",
    "    f1_forw_rfc.append(f1_score(y_test, y_test_pred, average = 'macro'))\n",
    "    \n",
    "comparacion_forw_rfc = pd.DataFrame({'Modelo': ['Sprint 3', 'Sprint 5', ' Sprint 7', 'Sprint 9', 'Sprint 10'], 'Accuracy': accuracy_forw_rfc, 'Recall': recall_forw_rfc, 'F1': f1_forw_rfc})\n",
    "\n",
    "comparacion_forw_rfc.round(2)"
   ]
  },
  {
   "attachments": {},
   "cell_type": "markdown",
   "metadata": {},
   "source": [
    "### Ada Boost Classifier"
   ]
  },
  {
   "attachments": {},
   "cell_type": "markdown",
   "metadata": {},
   "source": [
    "Este algoritmo resulta extremandamente lento a la hora de realizar el Forward Feature Selector, es por ello que se tomaron los features determinados por Random Forest."
   ]
  },
  {
   "cell_type": "code",
   "execution_count": 18,
   "metadata": {},
   "outputs": [],
   "source": [
    "from sklearn.ensemble import AdaBoostClassifier"
   ]
  },
  {
   "cell_type": "code",
   "execution_count": 19,
   "metadata": {},
   "outputs": [
    {
     "data": {
      "text/html": [
       "<div>\n",
       "<style scoped>\n",
       "    .dataframe tbody tr th:only-of-type {\n",
       "        vertical-align: middle;\n",
       "    }\n",
       "\n",
       "    .dataframe tbody tr th {\n",
       "        vertical-align: top;\n",
       "    }\n",
       "\n",
       "    .dataframe thead th {\n",
       "        text-align: right;\n",
       "    }\n",
       "</style>\n",
       "<table border=\"1\" class=\"dataframe\">\n",
       "  <thead>\n",
       "    <tr style=\"text-align: right;\">\n",
       "      <th></th>\n",
       "      <th>Modelo</th>\n",
       "      <th>Accuracy</th>\n",
       "      <th>Recall</th>\n",
       "      <th>F1</th>\n",
       "    </tr>\n",
       "  </thead>\n",
       "  <tbody>\n",
       "    <tr>\n",
       "      <th>0</th>\n",
       "      <td>Sprint 3</td>\n",
       "      <td>0.07</td>\n",
       "      <td>0.08</td>\n",
       "      <td>0.04</td>\n",
       "    </tr>\n",
       "    <tr>\n",
       "      <th>1</th>\n",
       "      <td>Sprint 5</td>\n",
       "      <td>0.09</td>\n",
       "      <td>0.09</td>\n",
       "      <td>0.05</td>\n",
       "    </tr>\n",
       "    <tr>\n",
       "      <th>2</th>\n",
       "      <td>Sprint 7</td>\n",
       "      <td>0.08</td>\n",
       "      <td>0.08</td>\n",
       "      <td>0.04</td>\n",
       "    </tr>\n",
       "    <tr>\n",
       "      <th>3</th>\n",
       "      <td>Sprint 9</td>\n",
       "      <td>0.10</td>\n",
       "      <td>0.10</td>\n",
       "      <td>0.06</td>\n",
       "    </tr>\n",
       "    <tr>\n",
       "      <th>4</th>\n",
       "      <td>Sprint 10</td>\n",
       "      <td>0.13</td>\n",
       "      <td>0.13</td>\n",
       "      <td>0.09</td>\n",
       "    </tr>\n",
       "  </tbody>\n",
       "</table>\n",
       "</div>"
      ],
      "text/plain": [
       "      Modelo  Accuracy  Recall    F1\n",
       "0   Sprint 3      0.07    0.08  0.04\n",
       "1   Sprint 5      0.09    0.09  0.05\n",
       "2   Sprint 7      0.08    0.08  0.04\n",
       "3   Sprint 9      0.10    0.10  0.06\n",
       "4  Sprint 10      0.13    0.13  0.09"
      ]
     },
     "execution_count": 19,
     "metadata": {},
     "output_type": "execute_result"
    }
   ],
   "source": [
    "abc = AdaBoostClassifier()\n",
    "\n",
    "accuracy_forw_abc, recall_forw_abc, f1_forw_abc = [], [], []\n",
    "\n",
    "for i in [3, 5, 7, 9, 10]:\n",
    "    X_i = X[list(X2.columns[forw_rfc[f'sfs_{i}'].get_support()])]\n",
    "    \n",
    "    X_train, X_test, y_train, y_test = train_test_split(X_i, y, random_state = 42)\n",
    "    abc.fit(X_train, y_train)\n",
    "    \n",
    "    y_test_pred = abc.predict(X_test)\n",
    "    \n",
    "    accuracy_forw_abc.append(accuracy_score(y_test, y_test_pred))\n",
    "    recall_forw_abc.append(recall_score(y_test, y_test_pred, average = 'macro'))\n",
    "    f1_forw_abc.append(f1_score(y_test, y_test_pred, average = 'macro'))\n",
    "    \n",
    "comparacion_forw_abc = pd.DataFrame({'Modelo': ['Sprint 3', 'Sprint 5', ' Sprint 7', 'Sprint 9', 'Sprint 10'], 'Accuracy': accuracy_forw_abc, 'Recall': recall_forw_abc, 'F1': f1_forw_abc})\n",
    "\n",
    "comparacion_forw_abc.round(2)"
   ]
  },
  {
   "attachments": {},
   "cell_type": "markdown",
   "metadata": {},
   "source": [
    "## Evaluando underfitting y overfitting"
   ]
  },
  {
   "attachments": {},
   "cell_type": "markdown",
   "metadata": {},
   "source": [
    "En esta sección se utilizará la métrica \"accuracy\" para evaluar cuando un algoritmo de ML se encuentra en under/over-fitting. En particular, el método utilizado es el Random Forest Classifier, calcularemos la métrica accuracy, para evaluar la perfomance en el train dataset y en el test dataset mientras variamos la complejidad del algoritmo."
   ]
  },
  {
   "cell_type": "code",
   "execution_count": 20,
   "metadata": {},
   "outputs": [],
   "source": [
    "train_metric, test_metric = [], []\n",
    "\n",
    "X_9 = X[list(X2.columns[forw_dtc['sfs_9'].get_support()])]\n",
    "X_train, X_test, y_train, y_test = train_test_split(X_9, y, random_state = 42)\n",
    "\n",
    "k = np.arange(20, 100, 10)\n",
    "\n",
    "for i in k:\n",
    "    rfc = RandomForestClassifier(n_estimators = i, max_depth = 5, max_features = 1)\n",
    "    rfc.fit(X_train, y_train)\n",
    "\n",
    "    # Evaluamos en el train dataset\n",
    "    y_train_pred = rfc.predict(X_train)\n",
    "    train_acc = accuracy_score(y_train, y_train_pred)\n",
    "    train_metric.append(train_acc)\n",
    "\n",
    "    # Evaluamos en el test dataset\n",
    "    y_test_pred = rfc.predict(X_test)\n",
    "    test_acc = accuracy_score(y_test, y_test_pred)\n",
    "    test_metric.append(test_acc)"
   ]
  },
  {
   "cell_type": "code",
   "execution_count": 21,
   "metadata": {},
   "outputs": [
    {
     "data": {
      "image/png": "[encoded data removed]",
      "text/plain": [
       "<Figure size 640x480 with 1 Axes>"
      ]
     },
     "metadata": {},
     "output_type": "display_data"
    }
   ],
   "source": [
    "plt.plot(k, train_metric, '-o', label = 'Train')\n",
    "plt.plot(k, test_metric, '-o', label = 'Test')\n",
    "plt.xlabel('n_estimators')\n",
    "plt.ylabel('Accuracy')\n",
    "plt.legend(loc = 'best')\n",
    "plt.show()"
   ]
  },
  {
   "attachments": {},
   "cell_type": "markdown",
   "metadata": {},
   "source": [
    "En la figura se graficó la métrica accuracy evaluada para el dataset de entrenamiento y el de evaluación en función de n_estimators. Se observa que con un pequeño aumento de n_estimators el accuracy tanto para train como para test aumentan en forma similar hasta n_estimators = 60. Mayores incrementos de la variable independiente no producen mejoras sustanciales en la calidad del ajuste. Repetimos el proceso, ahora variando max_depth mientras n_estimators = 60."
   ]
  },
  {
   "cell_type": "code",
   "execution_count": 22,
   "metadata": {},
   "outputs": [],
   "source": [
    "train_metric_2, test_metric_2 = [], []\n",
    "\n",
    "k = np.arange(2, 20, 2)\n",
    "\n",
    "for i in k:\n",
    "    rtc = RandomForestClassifier(max_depth = i, n_estimators = 60, max_features = 1)\n",
    "    rtc.fit(X_train, y_train)\n",
    "\n",
    "    # Evaluamos en el train dataset\n",
    "    y_train_pred = rtc.predict(X_train)\n",
    "    train_acc = accuracy_score(y_train, y_train_pred)\n",
    "    train_metric_2.append(train_acc)\n",
    "\n",
    "    # Evaluamos en el test dataset\n",
    "    y_test_pred = rtc.predict(X_test)\n",
    "    test_acc = accuracy_score(y_test, y_test_pred)\n",
    "    test_metric_2.append(test_acc)"
   ]
  },
  {
   "cell_type": "code",
   "execution_count": 23,
   "metadata": {},
   "outputs": [
    {
     "data": {
      "image/png": "[encoded data removed]",
      "text/plain": [
       "<Figure size 640x480 with 1 Axes>"
      ]
     },
     "metadata": {},
     "output_type": "display_data"
    }
   ],
   "source": [
    "plt.plot(k, train_metric_2, '-o', label = 'Train')\n",
    "plt.plot(k, test_metric_2, '-o', label = 'Test')\n",
    "plt.xlabel('max_depth')\n",
    "plt.ylabel('Accuracy')\n",
    "plt.legend(loc = 'best')\n",
    "plt.show()"
   ]
  },
  {
   "attachments": {},
   "cell_type": "markdown",
   "metadata": {},
   "source": [
    "En la figura se graficaron las métricas accuracy evaluadas para el dataset de entrenamiento y el de evaluación en función de max depth. Se observa que a bajos valores ambas curvas son muy similares pero en torno a max depth = 10 estas se empiezan a separar. En este momento es cuando el algoritmo empieza a sobreajustar. Ahora variamos min_samples_split mientras n_estimators = 60 y max_depth = 10."
   ]
  },
  {
   "cell_type": "code",
   "execution_count": 24,
   "metadata": {},
   "outputs": [],
   "source": [
    "train_metric_3, test_metric_3 = [], []\n",
    "\n",
    "k = np.arange(2, 20, 2)\n",
    "\n",
    "for i in k:\n",
    "    rtc = RandomForestClassifier(n_estimators = 60, max_depth = 10, min_samples_split = i)\n",
    "    rtc.fit(X_train, y_train)\n",
    "\n",
    "    # Evaluamos en el train dataset\n",
    "    y_train_pred = rtc.predict(X_train)\n",
    "    train_acc = accuracy_score(y_train, y_train_pred)\n",
    "    train_metric_3.append(train_acc)\n",
    "\n",
    "    # Evaluamos en el test dataset\n",
    "    y_test_pred = rtc.predict(X_test)\n",
    "    test_acc = accuracy_score(y_test, y_test_pred)\n",
    "    test_metric_3.append(test_acc)"
   ]
  },
  {
   "cell_type": "code",
   "execution_count": 25,
   "metadata": {},
   "outputs": [
    {
     "data": {
      "image/png": "[encoded data removed]",
      "text/plain": [
       "<Figure size 640x480 with 1 Axes>"
      ]
     },
     "metadata": {},
     "output_type": "display_data"
    }
   ],
   "source": [
    "plt.plot(k, train_metric_3, '-o', label = 'Train')\n",
    "plt.plot(k, test_metric_3, '-o', label = 'Test')\n",
    "plt.xlabel('min_samples_split')\n",
    "plt.ylabel('Accuracy')\n",
    "plt.legend(loc = 'best')\n",
    "plt.show()"
   ]
  },
  {
   "attachments": {},
   "cell_type": "markdown",
   "metadata": {},
   "source": [
    "En este caso obtenemos un máximo de accuracy a min_sample_split = 6, a mayores valores de la variable la métrica se mantiene aproximadamente constante. Por ello selecciomamos min_sample_split = 6 dado que nos da el mejor resultado al tiempo que evitamos hacer más complejo el modelo. Ejecutamos el modelo de Random Forest para n_estimators = 60, max_depth = 10 y min_samples_split = 6."
   ]
  },
  {
   "cell_type": "code",
   "execution_count": 26,
   "metadata": {},
   "outputs": [
    {
     "name": "stdout",
     "output_type": "stream",
     "text": [
      "Las métricas obtenidas son: \n",
      " Accuracy = 0.28 \n",
      " Recall = 0.28 \n",
      " F1 = 0.25\n"
     ]
    }
   ],
   "source": [
    "rtc = RandomForestClassifier(n_estimators = 60, max_depth = 10, min_samples_split = 6)\n",
    "\n",
    "X_train, X_test, y_train, y_test = train_test_split(X, y, random_state = 42)\n",
    "rtc.fit(X_train, y_train)\n",
    "y_pred = rtc.predict(X_test)\n",
    "\n",
    "accuracy = accuracy_score(y_test, y_pred)\n",
    "recall = recall_score(y_test, y_pred, average = 'macro')\n",
    "f1 = f1_score(y_test, y_pred, average = 'macro')\n",
    "\n",
    "print(f'''Las métricas obtenidas son: \\n Accuracy = {accuracy.round(2)} \\n Recall = {recall.round(2)} \\n F1 = {f1.round(2)}''')"
   ]
  },
  {
   "attachments": {},
   "cell_type": "markdown",
   "metadata": {},
   "source": [
    "Por medio de este análisis, logramos mejorar las métricas del modelo de Random Forest al tiempo que evitamos sub y sobreajustar y manteniendo el modelo lo más simple posible. "
   ]
  },
  {
   "attachments": {},
   "cell_type": "markdown",
   "metadata": {},
   "source": [
    "## Método de clustering (KMeans)"
   ]
  },
  {
   "attachments": {},
   "cell_type": "markdown",
   "metadata": {},
   "source": [
    "A continuación probaremos y evaluareamos el método de clustering KMeans. Aplicaremos el método del codo (Elbow Method) para determinar el número adecuado de clusters. El fin de este método es para agrupar las canciones en grupos que excedan simplemente su género musical, identificando grupos de canciones con características similares."
   ]
  },
  {
   "cell_type": "code",
   "execution_count": 27,
   "metadata": {},
   "outputs": [],
   "source": [
    "from sklearn.cluster import KMeans"
   ]
  },
  {
   "cell_type": "code",
   "execution_count": 28,
   "metadata": {},
   "outputs": [],
   "source": [
    "X = df1.drop(['track_genre', 'track_id', 'album_name', 'track_name', 'explicit', 'mode', 'key', 'time_signature', 'artist_1', 'artist_2', 'artist_3'], axis = 1) \n",
    "\n",
    "wcss = []\n",
    "\n",
    "for k in range(2, 20): \n",
    "    kmeans = KMeans(n_clusters = k, init = 'k-means++', random_state = 42)\n",
    "    kmeans.fit(X)\n",
    "    wcss.append(kmeans.inertia_)"
   ]
  },
  {
   "cell_type": "code",
   "execution_count": 29,
   "metadata": {},
   "outputs": [
    {
     "data": {
      "image/png": "[encoded data removed]",
      "text/plain": [
       "<Figure size 640x480 with 1 Axes>"
      ]
     },
     "metadata": {},
     "output_type": "display_data"
    }
   ],
   "source": [
    "plt.plot(np.arange(2, 20, 1), wcss, '-o')\n",
    "plt.xlabel('n_clusters')\n",
    "plt.ylabel('Inercia')\n",
    "plt.xticks(np.arange(2,20))\n",
    "plt.title('Método del codo')\n",
    "plt.show()"
   ]
  },
  {
   "attachments": {},
   "cell_type": "markdown",
   "metadata": {},
   "source": [
    "El gráfico muestra que la inercia, suma de las distancias de los puntos a su centroide más cercano, disminuye rápidamente a valores n_clusters chicos pero que luego se ameseta. Tomamos n_clusters = 8 como el óptimo ya que a partir de este valor la inercia disminuye lentamente. Ahora evaluamos en n_clusters = 8."
   ]
  },
  {
   "cell_type": "code",
   "execution_count": 30,
   "metadata": {},
   "outputs": [],
   "source": [
    "kmeans = KMeans(n_clusters = 8, init = 'k-means++', random_state = 42) \n",
    "y_kmeans = kmeans.fit_predict(X)"
   ]
  },
  {
   "cell_type": "code",
   "execution_count": 31,
   "metadata": {},
   "outputs": [
    {
     "data": {
      "text/html": [
       "<div>\n",
       "<style scoped>\n",
       "    .dataframe tbody tr th:only-of-type {\n",
       "        vertical-align: middle;\n",
       "    }\n",
       "\n",
       "    .dataframe tbody tr th {\n",
       "        vertical-align: top;\n",
       "    }\n",
       "\n",
       "    .dataframe thead th {\n",
       "        text-align: right;\n",
       "    }\n",
       "</style>\n",
       "<table border=\"1\" class=\"dataframe\">\n",
       "  <thead>\n",
       "    <tr style=\"text-align: right;\">\n",
       "      <th></th>\n",
       "      <th>popularity</th>\n",
       "      <th>danceability</th>\n",
       "      <th>energy</th>\n",
       "      <th>speechiness</th>\n",
       "      <th>acousticness</th>\n",
       "      <th>instrumentalness</th>\n",
       "      <th>liveness</th>\n",
       "      <th>valence</th>\n",
       "      <th>tempo</th>\n",
       "      <th>duration_min</th>\n",
       "      <th>loudness_db</th>\n",
       "    </tr>\n",
       "    <tr>\n",
       "      <th>pred</th>\n",
       "      <th></th>\n",
       "      <th></th>\n",
       "      <th></th>\n",
       "      <th></th>\n",
       "      <th></th>\n",
       "      <th></th>\n",
       "      <th></th>\n",
       "      <th></th>\n",
       "      <th></th>\n",
       "      <th></th>\n",
       "      <th></th>\n",
       "    </tr>\n",
       "  </thead>\n",
       "  <tbody>\n",
       "    <tr>\n",
       "      <th>0</th>\n",
       "      <td>5.51</td>\n",
       "      <td>0.61</td>\n",
       "      <td>0.66</td>\n",
       "      <td>0.07</td>\n",
       "      <td>0.26</td>\n",
       "      <td>0.22</td>\n",
       "      <td>0.19</td>\n",
       "      <td>0.51</td>\n",
       "      <td>126.03</td>\n",
       "      <td>3.82</td>\n",
       "      <td>8.31</td>\n",
       "    </tr>\n",
       "    <tr>\n",
       "      <th>1</th>\n",
       "      <td>32.77</td>\n",
       "      <td>0.59</td>\n",
       "      <td>0.65</td>\n",
       "      <td>0.08</td>\n",
       "      <td>0.35</td>\n",
       "      <td>0.13</td>\n",
       "      <td>0.24</td>\n",
       "      <td>0.51</td>\n",
       "      <td>106.50</td>\n",
       "      <td>3.71</td>\n",
       "      <td>8.33</td>\n",
       "    </tr>\n",
       "    <tr>\n",
       "      <th>2</th>\n",
       "      <td>34.41</td>\n",
       "      <td>0.57</td>\n",
       "      <td>0.69</td>\n",
       "      <td>0.08</td>\n",
       "      <td>0.27</td>\n",
       "      <td>0.15</td>\n",
       "      <td>0.24</td>\n",
       "      <td>0.48</td>\n",
       "      <td>137.82</td>\n",
       "      <td>3.92</td>\n",
       "      <td>7.65</td>\n",
       "    </tr>\n",
       "    <tr>\n",
       "      <th>3</th>\n",
       "      <td>60.25</td>\n",
       "      <td>0.62</td>\n",
       "      <td>0.64</td>\n",
       "      <td>0.07</td>\n",
       "      <td>0.28</td>\n",
       "      <td>0.14</td>\n",
       "      <td>0.18</td>\n",
       "      <td>0.45</td>\n",
       "      <td>124.99</td>\n",
       "      <td>3.75</td>\n",
       "      <td>7.87</td>\n",
       "    </tr>\n",
       "    <tr>\n",
       "      <th>4</th>\n",
       "      <td>9.25</td>\n",
       "      <td>0.53</td>\n",
       "      <td>0.54</td>\n",
       "      <td>0.11</td>\n",
       "      <td>0.45</td>\n",
       "      <td>0.18</td>\n",
       "      <td>0.21</td>\n",
       "      <td>0.44</td>\n",
       "      <td>87.16</td>\n",
       "      <td>3.52</td>\n",
       "      <td>9.88</td>\n",
       "    </tr>\n",
       "    <tr>\n",
       "      <th>5</th>\n",
       "      <td>51.75</td>\n",
       "      <td>0.50</td>\n",
       "      <td>0.71</td>\n",
       "      <td>0.10</td>\n",
       "      <td>0.26</td>\n",
       "      <td>0.08</td>\n",
       "      <td>0.22</td>\n",
       "      <td>0.51</td>\n",
       "      <td>169.08</td>\n",
       "      <td>3.63</td>\n",
       "      <td>6.80</td>\n",
       "    </tr>\n",
       "    <tr>\n",
       "      <th>6</th>\n",
       "      <td>54.15</td>\n",
       "      <td>0.55</td>\n",
       "      <td>0.56</td>\n",
       "      <td>0.08</td>\n",
       "      <td>0.39</td>\n",
       "      <td>0.14</td>\n",
       "      <td>0.20</td>\n",
       "      <td>0.44</td>\n",
       "      <td>86.42</td>\n",
       "      <td>3.61</td>\n",
       "      <td>9.23</td>\n",
       "    </tr>\n",
       "    <tr>\n",
       "      <th>7</th>\n",
       "      <td>13.97</td>\n",
       "      <td>0.49</td>\n",
       "      <td>0.74</td>\n",
       "      <td>0.11</td>\n",
       "      <td>0.23</td>\n",
       "      <td>0.17</td>\n",
       "      <td>0.21</td>\n",
       "      <td>0.49</td>\n",
       "      <td>172.18</td>\n",
       "      <td>3.69</td>\n",
       "      <td>6.87</td>\n",
       "    </tr>\n",
       "  </tbody>\n",
       "</table>\n",
       "</div>"
      ],
      "text/plain": [
       "      popularity  danceability  energy  speechiness  acousticness  \\\n",
       "pred                                                                \n",
       "0           5.51          0.61    0.66         0.07          0.26   \n",
       "1          32.77          0.59    0.65         0.08          0.35   \n",
       "2          34.41          0.57    0.69         0.08          0.27   \n",
       "3          60.25          0.62    0.64         0.07          0.28   \n",
       "4           9.25          0.53    0.54         0.11          0.45   \n",
       "5          51.75          0.50    0.71         0.10          0.26   \n",
       "6          54.15          0.55    0.56         0.08          0.39   \n",
       "7          13.97          0.49    0.74         0.11          0.23   \n",
       "\n",
       "      instrumentalness  liveness  valence   tempo  duration_min  loudness_db  \n",
       "pred                                                                          \n",
       "0                 0.22      0.19     0.51  126.03          3.82         8.31  \n",
       "1                 0.13      0.24     0.51  106.50          3.71         8.33  \n",
       "2                 0.15      0.24     0.48  137.82          3.92         7.65  \n",
       "3                 0.14      0.18     0.45  124.99          3.75         7.87  \n",
       "4                 0.18      0.21     0.44   87.16          3.52         9.88  \n",
       "5                 0.08      0.22     0.51  169.08          3.63         6.80  \n",
       "6                 0.14      0.20     0.44   86.42          3.61         9.23  \n",
       "7                 0.17      0.21     0.49  172.18          3.69         6.87  "
      ]
     },
     "execution_count": 31,
     "metadata": {},
     "output_type": "execute_result"
    }
   ],
   "source": [
    "X['pred'] = y_kmeans\n",
    "X.groupby(['pred']).mean(numeric_only = True).round(2)"
   ]
  },
  {
   "attachments": {},
   "cell_type": "markdown",
   "metadata": {},
   "source": [
    "Estas son las variables medias de los ocho clusters identificados por KMeans. Las variaciones entre grupo y grupo son leves y complejas de analizar. Sin embargo, se observan grupos que se destacan por su \"energy\", otros por poseer mas \"acousticness\" y otros por tener mayor \"loudness_db\". "
   ]
  },
  {
   "attachments": {},
   "cell_type": "markdown",
   "metadata": {},
   "source": [
    "## Conclusiones\n",
    "\n",
    "En esta práctica se evaluaron varios modelos de clasificación, obteniendo en general, métricas muy mejorables. Claramente hay espacio para mejora. Se especula que por medio de la normalización de las diferentes variables y por medio de una mejor seleccion de hiperparámetros estos modelos mejoren sustancialmente.\n",
    "\n",
    "Empleando el clasificador Random Forest se analizó el efecto de tres de sus hiperparámetros en la métrica accuracy. Esto permitió ir encontrando el mejor modelo, mejorando el ajuste al tiempo que analizamos el sub y sobreajuste.\n",
    "\n",
    "Por último, se hizo una prueba rápida con el algoritmo de clustering KMeans. Se encontraron ocho posibles cluster con los que agrupar las distintas canciones. Las diferencias medias entre las variables de cada grupo son sutiles y requiere de un análisis concienzudo."
   ]
  }
 ],
 "metadata": {
  "kernelspec": {
   "display_name": "ml-scikit",
   "language": "python",
   "name": "python3"
  },
  "language_info": {
   "codemirror_mode": {
    "name": "ipython",
    "version": 3
   },
   "file_extension": ".py",
   "mimetype": "text/x-python",
   "name": "python",
   "nbconvert_exporter": "python",
   "pygments_lexer": "ipython3",
   "version": "3.10.9"
  },
  "orig_nbformat": 4,
  "vscode": {
   "interpreter": {
    "hash": "0142ef71ab5460c29a2357c56870d5c7cfcd83d07ae4af5dea5fef48f22325cb"
   }
  }
 },
 "nbformat": 4,
 "nbformat_minor": 2
}
